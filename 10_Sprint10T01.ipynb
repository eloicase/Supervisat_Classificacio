{
 "cells": [
  {
   "cell_type": "markdown",
   "id": "cc10332a",
   "metadata": {},
   "source": [
    "## S10 T01\n",
    "### Aprenentage Supervisat Classificació\n",
    "#### Eloi Canals"
   ]
  },
  {
   "cell_type": "markdown",
   "id": "ed742e3e",
   "metadata": {},
   "source": [
    "#### - Exercici 1\n",
    "#### Crea almenys tres models de classificació diferents per intentar predir el millor possible l’endarreriment dels vols (ArrDelay) de DelayedFlights.csv. Considera si el vol ha arribat tard o no (ArrDelay > 0)"
   ]
  },
  {
   "cell_type": "code",
   "execution_count": 1,
   "id": "cfda4f92",
   "metadata": {},
   "outputs": [
    {
     "name": "stderr",
     "output_type": "stream",
     "text": [
      "/Users/ecanals/opt/anaconda3/lib/python3.8/site-packages/numpy/lib/arraysetops.py:580: FutureWarning: elementwise comparison failed; returning scalar instead, but in the future will perform elementwise comparison\n",
      "  mask |= (ar1 == a)\n"
     ]
    }
   ],
   "source": [
    "# Carreguem llibreries i el dataset DelayedFlights.csv\n",
    "\n",
    "import pandas as pd\n",
    "import matplotlib.pyplot as plt #, mpld3\n",
    "import numpy as np\n",
    "import seaborn as sns\n",
    "\n",
    "# sklearn\n",
    "from sklearn.model_selection import train_test_split\n",
    "\n",
    "from sklearn.preprocessing import StandardScaler\n",
    "from sklearn.preprocessing import MinMaxScaler\n",
    "from sklearn.preprocessing import RobustScaler\n",
    "from sklearn.decomposition import PCA\n",
    "\n",
    "df = pd.read_csv('DelayedFlights.csv', index_col=0)"
   ]
  },
  {
   "cell_type": "code",
   "execution_count": 2,
   "id": "928b682b",
   "metadata": {},
   "outputs": [
    {
     "data": {
      "text/html": [
       "<div>\n",
       "<style scoped>\n",
       "    .dataframe tbody tr th:only-of-type {\n",
       "        vertical-align: middle;\n",
       "    }\n",
       "\n",
       "    .dataframe tbody tr th {\n",
       "        vertical-align: top;\n",
       "    }\n",
       "\n",
       "    .dataframe thead th {\n",
       "        text-align: right;\n",
       "    }\n",
       "</style>\n",
       "<table border=\"1\" class=\"dataframe\">\n",
       "  <thead>\n",
       "    <tr style=\"text-align: right;\">\n",
       "      <th></th>\n",
       "      <th>Year</th>\n",
       "      <th>Month</th>\n",
       "      <th>DayofMonth</th>\n",
       "      <th>DayOfWeek</th>\n",
       "      <th>DepTime</th>\n",
       "      <th>CRSDepTime</th>\n",
       "      <th>ArrTime</th>\n",
       "      <th>CRSArrTime</th>\n",
       "      <th>UniqueCarrier</th>\n",
       "      <th>FlightNum</th>\n",
       "      <th>...</th>\n",
       "      <th>TaxiIn</th>\n",
       "      <th>TaxiOut</th>\n",
       "      <th>Cancelled</th>\n",
       "      <th>CancellationCode</th>\n",
       "      <th>Diverted</th>\n",
       "      <th>CarrierDelay</th>\n",
       "      <th>WeatherDelay</th>\n",
       "      <th>NASDelay</th>\n",
       "      <th>SecurityDelay</th>\n",
       "      <th>LateAircraftDelay</th>\n",
       "    </tr>\n",
       "  </thead>\n",
       "  <tbody>\n",
       "    <tr>\n",
       "      <th>0</th>\n",
       "      <td>2008</td>\n",
       "      <td>1</td>\n",
       "      <td>3</td>\n",
       "      <td>4</td>\n",
       "      <td>2003.0</td>\n",
       "      <td>1955</td>\n",
       "      <td>2211.0</td>\n",
       "      <td>2225</td>\n",
       "      <td>WN</td>\n",
       "      <td>335</td>\n",
       "      <td>...</td>\n",
       "      <td>4.0</td>\n",
       "      <td>8.0</td>\n",
       "      <td>0</td>\n",
       "      <td>N</td>\n",
       "      <td>0</td>\n",
       "      <td>NaN</td>\n",
       "      <td>NaN</td>\n",
       "      <td>NaN</td>\n",
       "      <td>NaN</td>\n",
       "      <td>NaN</td>\n",
       "    </tr>\n",
       "    <tr>\n",
       "      <th>1</th>\n",
       "      <td>2008</td>\n",
       "      <td>1</td>\n",
       "      <td>3</td>\n",
       "      <td>4</td>\n",
       "      <td>754.0</td>\n",
       "      <td>735</td>\n",
       "      <td>1002.0</td>\n",
       "      <td>1000</td>\n",
       "      <td>WN</td>\n",
       "      <td>3231</td>\n",
       "      <td>...</td>\n",
       "      <td>5.0</td>\n",
       "      <td>10.0</td>\n",
       "      <td>0</td>\n",
       "      <td>N</td>\n",
       "      <td>0</td>\n",
       "      <td>NaN</td>\n",
       "      <td>NaN</td>\n",
       "      <td>NaN</td>\n",
       "      <td>NaN</td>\n",
       "      <td>NaN</td>\n",
       "    </tr>\n",
       "    <tr>\n",
       "      <th>2</th>\n",
       "      <td>2008</td>\n",
       "      <td>1</td>\n",
       "      <td>3</td>\n",
       "      <td>4</td>\n",
       "      <td>628.0</td>\n",
       "      <td>620</td>\n",
       "      <td>804.0</td>\n",
       "      <td>750</td>\n",
       "      <td>WN</td>\n",
       "      <td>448</td>\n",
       "      <td>...</td>\n",
       "      <td>3.0</td>\n",
       "      <td>17.0</td>\n",
       "      <td>0</td>\n",
       "      <td>N</td>\n",
       "      <td>0</td>\n",
       "      <td>NaN</td>\n",
       "      <td>NaN</td>\n",
       "      <td>NaN</td>\n",
       "      <td>NaN</td>\n",
       "      <td>NaN</td>\n",
       "    </tr>\n",
       "    <tr>\n",
       "      <th>4</th>\n",
       "      <td>2008</td>\n",
       "      <td>1</td>\n",
       "      <td>3</td>\n",
       "      <td>4</td>\n",
       "      <td>1829.0</td>\n",
       "      <td>1755</td>\n",
       "      <td>1959.0</td>\n",
       "      <td>1925</td>\n",
       "      <td>WN</td>\n",
       "      <td>3920</td>\n",
       "      <td>...</td>\n",
       "      <td>3.0</td>\n",
       "      <td>10.0</td>\n",
       "      <td>0</td>\n",
       "      <td>N</td>\n",
       "      <td>0</td>\n",
       "      <td>2.0</td>\n",
       "      <td>0.0</td>\n",
       "      <td>0.0</td>\n",
       "      <td>0.0</td>\n",
       "      <td>32.0</td>\n",
       "    </tr>\n",
       "    <tr>\n",
       "      <th>5</th>\n",
       "      <td>2008</td>\n",
       "      <td>1</td>\n",
       "      <td>3</td>\n",
       "      <td>4</td>\n",
       "      <td>1940.0</td>\n",
       "      <td>1915</td>\n",
       "      <td>2121.0</td>\n",
       "      <td>2110</td>\n",
       "      <td>WN</td>\n",
       "      <td>378</td>\n",
       "      <td>...</td>\n",
       "      <td>4.0</td>\n",
       "      <td>10.0</td>\n",
       "      <td>0</td>\n",
       "      <td>N</td>\n",
       "      <td>0</td>\n",
       "      <td>NaN</td>\n",
       "      <td>NaN</td>\n",
       "      <td>NaN</td>\n",
       "      <td>NaN</td>\n",
       "      <td>NaN</td>\n",
       "    </tr>\n",
       "  </tbody>\n",
       "</table>\n",
       "<p>5 rows × 29 columns</p>\n",
       "</div>"
      ],
      "text/plain": [
       "   Year  Month  DayofMonth  DayOfWeek  DepTime  CRSDepTime  ArrTime  \\\n",
       "0  2008      1           3          4   2003.0        1955   2211.0   \n",
       "1  2008      1           3          4    754.0         735   1002.0   \n",
       "2  2008      1           3          4    628.0         620    804.0   \n",
       "4  2008      1           3          4   1829.0        1755   1959.0   \n",
       "5  2008      1           3          4   1940.0        1915   2121.0   \n",
       "\n",
       "   CRSArrTime UniqueCarrier  FlightNum  ... TaxiIn  TaxiOut  Cancelled  \\\n",
       "0        2225            WN        335  ...    4.0      8.0          0   \n",
       "1        1000            WN       3231  ...    5.0     10.0          0   \n",
       "2         750            WN        448  ...    3.0     17.0          0   \n",
       "4        1925            WN       3920  ...    3.0     10.0          0   \n",
       "5        2110            WN        378  ...    4.0     10.0          0   \n",
       "\n",
       "   CancellationCode  Diverted  CarrierDelay WeatherDelay NASDelay  \\\n",
       "0                 N         0           NaN          NaN      NaN   \n",
       "1                 N         0           NaN          NaN      NaN   \n",
       "2                 N         0           NaN          NaN      NaN   \n",
       "4                 N         0           2.0          0.0      0.0   \n",
       "5                 N         0           NaN          NaN      NaN   \n",
       "\n",
       "   SecurityDelay  LateAircraftDelay  \n",
       "0            NaN                NaN  \n",
       "1            NaN                NaN  \n",
       "2            NaN                NaN  \n",
       "4            0.0               32.0  \n",
       "5            NaN                NaN  \n",
       "\n",
       "[5 rows x 29 columns]"
      ]
     },
     "execution_count": 2,
     "metadata": {},
     "output_type": "execute_result"
    }
   ],
   "source": [
    "df.head()"
   ]
  },
  {
   "cell_type": "markdown",
   "id": "aa2f0192",
   "metadata": {},
   "source": [
    "#### Tractament de dades, NaNs, normalització, categorització de features i estandarització"
   ]
  },
  {
   "cell_type": "code",
   "execution_count": 3,
   "id": "efaf0f80",
   "metadata": {},
   "outputs": [
    {
     "data": {
      "text/plain": [
       "count     1936758\n",
       "unique         20\n",
       "top            WN\n",
       "freq       377602\n",
       "Name: UniqueCarrier, dtype: object"
      ]
     },
     "execution_count": 3,
     "metadata": {},
     "output_type": "execute_result"
    }
   ],
   "source": [
    "# Categorització de UniqueCarrer per reduir espai\n",
    "df['UniqueCarrier'].describe()"
   ]
  },
  {
   "cell_type": "code",
   "execution_count": 4,
   "id": "1c3beeae",
   "metadata": {},
   "outputs": [
    {
     "data": {
      "text/plain": [
       "WN    377602\n",
       "AA    191865\n",
       "MQ    141920\n",
       "UA    141426\n",
       "OO    132433\n",
       "DL    114238\n",
       "XE    103663\n",
       "CO    100195\n",
       "US     98425\n",
       "EV     81877\n",
       "NW     79108\n",
       "FL     71284\n",
       "YV     67063\n",
       "B6     55315\n",
       "OH     52657\n",
       "9E     51885\n",
       "AS     39293\n",
       "F9     28269\n",
       "HA      7490\n",
       "AQ       750\n",
       "Name: UniqueCarrier, dtype: int64"
      ]
     },
     "execution_count": 4,
     "metadata": {},
     "output_type": "execute_result"
    }
   ],
   "source": [
    "df['UniqueCarrier'].value_counts()"
   ]
  },
  {
   "cell_type": "code",
   "execution_count": 5,
   "id": "42a57cd7",
   "metadata": {},
   "outputs": [
    {
     "data": {
      "text/plain": [
       "15494064"
      ]
     },
     "execution_count": 5,
     "metadata": {},
     "output_type": "execute_result"
    }
   ],
   "source": [
    "df['UniqueCarrier'].nbytes"
   ]
  },
  {
   "cell_type": "code",
   "execution_count": 6,
   "id": "f905b737",
   "metadata": {},
   "outputs": [],
   "source": [
    "df['UniqueCarrier'] = df['UniqueCarrier'].astype(\"category\")"
   ]
  },
  {
   "cell_type": "code",
   "execution_count": 7,
   "id": "79847b52",
   "metadata": {},
   "outputs": [
    {
     "data": {
      "text/plain": [
       "1936918"
      ]
     },
     "execution_count": 7,
     "metadata": {},
     "output_type": "execute_result"
    }
   ],
   "source": [
    "# Comprovem com s'ha reduit l'espai en memoria utilitzat\n",
    "df['UniqueCarrier'].nbytes"
   ]
  },
  {
   "cell_type": "code",
   "execution_count": 8,
   "id": "e2e3f052",
   "metadata": {},
   "outputs": [
    {
     "data": {
      "text/plain": [
       "Index(['9E', 'AA', 'AQ', 'AS', 'B6', 'CO', 'DL', 'EV', 'F9', 'FL', 'HA', 'MQ',\n",
       "       'NW', 'OH', 'OO', 'UA', 'US', 'WN', 'XE', 'YV'],\n",
       "      dtype='object')"
      ]
     },
     "execution_count": 8,
     "metadata": {},
     "output_type": "execute_result"
    }
   ],
   "source": [
    "# Comprovem les categories\n",
    "df['UniqueCarrier'].cat.categories"
   ]
  },
  {
   "cell_type": "code",
   "execution_count": 9,
   "id": "478e51b2",
   "metadata": {},
   "outputs": [
    {
     "data": {
      "text/plain": [
       "61976256"
      ]
     },
     "execution_count": 9,
     "metadata": {},
     "output_type": "execute_result"
    }
   ],
   "source": [
    "# Fem el mateix amb Year Month DayofMonth DayOfWeek\n",
    "# Que tot i ser numeriques, les tractarem con si fosin categories de tipus data\n",
    "df['Year'].nbytes + df['Month'].nbytes + df['DayofMonth'].nbytes + df['DayOfWeek'].nbytes"
   ]
  },
  {
   "cell_type": "code",
   "execution_count": 10,
   "id": "12787643",
   "metadata": {},
   "outputs": [],
   "source": [
    "df['Year'] = df['Year'].astype(\"category\")\n",
    "df['Month'] = df['Month'].astype(\"category\")\n",
    "df['DayofMonth'] = df['DayofMonth'].astype(\"category\")\n",
    "df['DayOfWeek'] = df['DayOfWeek'].astype(\"category\")"
   ]
  },
  {
   "cell_type": "code",
   "execution_count": 11,
   "id": "de16aa96",
   "metadata": {},
   "outputs": [
    {
     "data": {
      "text/plain": [
       "7747440"
      ]
     },
     "execution_count": 11,
     "metadata": {},
     "output_type": "execute_result"
    }
   ],
   "source": [
    "# Tamanys after\n",
    "df['Year'].nbytes + df['Month'].nbytes + df['DayofMonth'].nbytes + df['DayOfWeek'].nbytes"
   ]
  },
  {
   "cell_type": "code",
   "execution_count": 12,
   "id": "eccd6a80",
   "metadata": {},
   "outputs": [
    {
     "data": {
      "text/plain": [
       "Int64Index([1, 2, 3, 4, 5, 6, 7, 8, 9, 10, 11, 12], dtype='int64')"
      ]
     },
     "execution_count": 12,
     "metadata": {},
     "output_type": "execute_result"
    }
   ],
   "source": [
    "df['Month'].cat.categories"
   ]
  },
  {
   "cell_type": "code",
   "execution_count": 13,
   "id": "d22e7e2d",
   "metadata": {},
   "outputs": [
    {
     "data": {
      "text/plain": [
       "Year                 category\n",
       "Month                category\n",
       "DayofMonth           category\n",
       "DayOfWeek            category\n",
       "DepTime               float64\n",
       "CRSDepTime              int64\n",
       "ArrTime               float64\n",
       "CRSArrTime              int64\n",
       "UniqueCarrier        category\n",
       "FlightNum               int64\n",
       "TailNum                object\n",
       "ActualElapsedTime     float64\n",
       "CRSElapsedTime        float64\n",
       "AirTime               float64\n",
       "ArrDelay              float64\n",
       "DepDelay              float64\n",
       "Origin                 object\n",
       "Dest                   object\n",
       "Distance                int64\n",
       "TaxiIn                float64\n",
       "TaxiOut               float64\n",
       "Cancelled               int64\n",
       "CancellationCode       object\n",
       "Diverted                int64\n",
       "CarrierDelay          float64\n",
       "WeatherDelay          float64\n",
       "NASDelay              float64\n",
       "SecurityDelay         float64\n",
       "LateAircraftDelay     float64\n",
       "dtype: object"
      ]
     },
     "execution_count": 13,
     "metadata": {},
     "output_type": "execute_result"
    }
   ],
   "source": [
    "df.dtypes"
   ]
  },
  {
   "cell_type": "code",
   "execution_count": 14,
   "id": "df7431a2",
   "metadata": {},
   "outputs": [],
   "source": [
    "# No te sentit categoritzar Origin i Dest per la gran cantitat de opcions que tenen i tampoc \n",
    "# el CancellationCode perque sempre te el mateix valor"
   ]
  },
  {
   "cell_type": "code",
   "execution_count": 15,
   "id": "3dd358da",
   "metadata": {},
   "outputs": [
    {
     "data": {
      "text/html": [
       "<div>\n",
       "<style scoped>\n",
       "    .dataframe tbody tr th:only-of-type {\n",
       "        vertical-align: middle;\n",
       "    }\n",
       "\n",
       "    .dataframe tbody tr th {\n",
       "        vertical-align: top;\n",
       "    }\n",
       "\n",
       "    .dataframe thead th {\n",
       "        text-align: right;\n",
       "    }\n",
       "</style>\n",
       "<table border=\"1\" class=\"dataframe\">\n",
       "  <thead>\n",
       "    <tr style=\"text-align: right;\">\n",
       "      <th></th>\n",
       "      <th>Year</th>\n",
       "      <th>Month</th>\n",
       "      <th>DayofMonth</th>\n",
       "      <th>DayOfWeek</th>\n",
       "      <th>DepTime</th>\n",
       "      <th>CRSDepTime</th>\n",
       "      <th>ArrTime</th>\n",
       "      <th>CRSArrTime</th>\n",
       "      <th>UniqueCarrier</th>\n",
       "      <th>FlightNum</th>\n",
       "      <th>...</th>\n",
       "      <th>TaxiIn</th>\n",
       "      <th>TaxiOut</th>\n",
       "      <th>Cancelled</th>\n",
       "      <th>CancellationCode</th>\n",
       "      <th>Diverted</th>\n",
       "      <th>CarrierDelay</th>\n",
       "      <th>WeatherDelay</th>\n",
       "      <th>NASDelay</th>\n",
       "      <th>SecurityDelay</th>\n",
       "      <th>LateAircraftDelay</th>\n",
       "    </tr>\n",
       "  </thead>\n",
       "  <tbody>\n",
       "    <tr>\n",
       "      <th>0</th>\n",
       "      <td>0</td>\n",
       "      <td>0</td>\n",
       "      <td>0</td>\n",
       "      <td>0</td>\n",
       "      <td>0</td>\n",
       "      <td>0</td>\n",
       "      <td>7110</td>\n",
       "      <td>0</td>\n",
       "      <td>0</td>\n",
       "      <td>0</td>\n",
       "      <td>...</td>\n",
       "      <td>7110</td>\n",
       "      <td>455</td>\n",
       "      <td>0</td>\n",
       "      <td>0</td>\n",
       "      <td>0</td>\n",
       "      <td>689270</td>\n",
       "      <td>689270</td>\n",
       "      <td>689270</td>\n",
       "      <td>689270</td>\n",
       "      <td>689270</td>\n",
       "    </tr>\n",
       "  </tbody>\n",
       "</table>\n",
       "<p>1 rows × 29 columns</p>\n",
       "</div>"
      ],
      "text/plain": [
       "   Year  Month  DayofMonth  DayOfWeek  DepTime  CRSDepTime  ArrTime  \\\n",
       "0     0      0           0          0        0           0     7110   \n",
       "\n",
       "   CRSArrTime  UniqueCarrier  FlightNum  ...  TaxiIn  TaxiOut  Cancelled  \\\n",
       "0           0              0          0  ...    7110      455          0   \n",
       "\n",
       "   CancellationCode  Diverted  CarrierDelay  WeatherDelay  NASDelay  \\\n",
       "0                 0         0        689270        689270    689270   \n",
       "\n",
       "   SecurityDelay  LateAircraftDelay  \n",
       "0         689270             689270  \n",
       "\n",
       "[1 rows x 29 columns]"
      ]
     },
     "metadata": {},
     "output_type": "display_data"
    }
   ],
   "source": [
    "# Tractament dels NaNs\n",
    "display(df.isna().sum().to_frame().T)"
   ]
  },
  {
   "cell_type": "code",
   "execution_count": 16,
   "id": "21a2b2d2",
   "metadata": {},
   "outputs": [],
   "source": [
    "df_drop = df.dropna()"
   ]
  },
  {
   "cell_type": "code",
   "execution_count": 17,
   "id": "e4748472",
   "metadata": {},
   "outputs": [
    {
     "data": {
      "text/html": [
       "<div>\n",
       "<style scoped>\n",
       "    .dataframe tbody tr th:only-of-type {\n",
       "        vertical-align: middle;\n",
       "    }\n",
       "\n",
       "    .dataframe tbody tr th {\n",
       "        vertical-align: top;\n",
       "    }\n",
       "\n",
       "    .dataframe thead th {\n",
       "        text-align: right;\n",
       "    }\n",
       "</style>\n",
       "<table border=\"1\" class=\"dataframe\">\n",
       "  <thead>\n",
       "    <tr style=\"text-align: right;\">\n",
       "      <th></th>\n",
       "      <th>Year</th>\n",
       "      <th>Month</th>\n",
       "      <th>DayofMonth</th>\n",
       "      <th>DayOfWeek</th>\n",
       "      <th>DepTime</th>\n",
       "      <th>CRSDepTime</th>\n",
       "      <th>ArrTime</th>\n",
       "      <th>CRSArrTime</th>\n",
       "      <th>UniqueCarrier</th>\n",
       "      <th>FlightNum</th>\n",
       "      <th>...</th>\n",
       "      <th>TaxiIn</th>\n",
       "      <th>TaxiOut</th>\n",
       "      <th>Cancelled</th>\n",
       "      <th>CancellationCode</th>\n",
       "      <th>Diverted</th>\n",
       "      <th>CarrierDelay</th>\n",
       "      <th>WeatherDelay</th>\n",
       "      <th>NASDelay</th>\n",
       "      <th>SecurityDelay</th>\n",
       "      <th>LateAircraftDelay</th>\n",
       "    </tr>\n",
       "  </thead>\n",
       "  <tbody>\n",
       "    <tr>\n",
       "      <th>0</th>\n",
       "      <td>0</td>\n",
       "      <td>0</td>\n",
       "      <td>0</td>\n",
       "      <td>0</td>\n",
       "      <td>0</td>\n",
       "      <td>0</td>\n",
       "      <td>0</td>\n",
       "      <td>0</td>\n",
       "      <td>0</td>\n",
       "      <td>0</td>\n",
       "      <td>...</td>\n",
       "      <td>0</td>\n",
       "      <td>0</td>\n",
       "      <td>0</td>\n",
       "      <td>0</td>\n",
       "      <td>0</td>\n",
       "      <td>0</td>\n",
       "      <td>0</td>\n",
       "      <td>0</td>\n",
       "      <td>0</td>\n",
       "      <td>0</td>\n",
       "    </tr>\n",
       "  </tbody>\n",
       "</table>\n",
       "<p>1 rows × 29 columns</p>\n",
       "</div>"
      ],
      "text/plain": [
       "   Year  Month  DayofMonth  DayOfWeek  DepTime  CRSDepTime  ArrTime  \\\n",
       "0     0      0           0          0        0           0        0   \n",
       "\n",
       "   CRSArrTime  UniqueCarrier  FlightNum  ...  TaxiIn  TaxiOut  Cancelled  \\\n",
       "0           0              0          0  ...       0        0          0   \n",
       "\n",
       "   CancellationCode  Diverted  CarrierDelay  WeatherDelay  NASDelay  \\\n",
       "0                 0         0             0             0         0   \n",
       "\n",
       "   SecurityDelay  LateAircraftDelay  \n",
       "0              0                  0  \n",
       "\n",
       "[1 rows x 29 columns]"
      ]
     },
     "metadata": {},
     "output_type": "display_data"
    }
   ],
   "source": [
    "display(df_drop.isna().sum().to_frame().T)"
   ]
  },
  {
   "cell_type": "code",
   "execution_count": 18,
   "id": "1dc2d6a8",
   "metadata": {},
   "outputs": [
    {
     "data": {
      "text/html": [
       "<div>\n",
       "<style scoped>\n",
       "    .dataframe tbody tr th:only-of-type {\n",
       "        vertical-align: middle;\n",
       "    }\n",
       "\n",
       "    .dataframe tbody tr th {\n",
       "        vertical-align: top;\n",
       "    }\n",
       "\n",
       "    .dataframe thead th {\n",
       "        text-align: right;\n",
       "    }\n",
       "</style>\n",
       "<table border=\"1\" class=\"dataframe\">\n",
       "  <thead>\n",
       "    <tr style=\"text-align: right;\">\n",
       "      <th></th>\n",
       "      <th>DepTime</th>\n",
       "      <th>CRSDepTime</th>\n",
       "      <th>ArrTime</th>\n",
       "      <th>CRSArrTime</th>\n",
       "      <th>FlightNum</th>\n",
       "      <th>ActualElapsedTime</th>\n",
       "      <th>CRSElapsedTime</th>\n",
       "      <th>AirTime</th>\n",
       "      <th>ArrDelay</th>\n",
       "      <th>DepDelay</th>\n",
       "      <th>Distance</th>\n",
       "      <th>TaxiIn</th>\n",
       "      <th>TaxiOut</th>\n",
       "      <th>Cancelled</th>\n",
       "      <th>Diverted</th>\n",
       "      <th>CarrierDelay</th>\n",
       "      <th>WeatherDelay</th>\n",
       "      <th>NASDelay</th>\n",
       "      <th>SecurityDelay</th>\n",
       "      <th>LateAircraftDelay</th>\n",
       "    </tr>\n",
       "  </thead>\n",
       "  <tbody>\n",
       "    <tr>\n",
       "      <th>count</th>\n",
       "      <td>1.247486e+06</td>\n",
       "      <td>1.247486e+06</td>\n",
       "      <td>1.247486e+06</td>\n",
       "      <td>1.247486e+06</td>\n",
       "      <td>1.247486e+06</td>\n",
       "      <td>1.247486e+06</td>\n",
       "      <td>1.247486e+06</td>\n",
       "      <td>1.247486e+06</td>\n",
       "      <td>1.247486e+06</td>\n",
       "      <td>1.247486e+06</td>\n",
       "      <td>1.247486e+06</td>\n",
       "      <td>1.247486e+06</td>\n",
       "      <td>1.247486e+06</td>\n",
       "      <td>1247486.0</td>\n",
       "      <td>1247486.0</td>\n",
       "      <td>1.247486e+06</td>\n",
       "      <td>1.247486e+06</td>\n",
       "      <td>1.247486e+06</td>\n",
       "      <td>1.247486e+06</td>\n",
       "      <td>1.247486e+06</td>\n",
       "    </tr>\n",
       "    <tr>\n",
       "      <th>mean</th>\n",
       "      <td>1.558832e+03</td>\n",
       "      <td>1.487949e+03</td>\n",
       "      <td>1.616749e+03</td>\n",
       "      <td>1.652458e+03</td>\n",
       "      <td>2.276526e+03</td>\n",
       "      <td>1.353779e+02</td>\n",
       "      <td>1.317641e+02</td>\n",
       "      <td>1.074203e+02</td>\n",
       "      <td>6.329104e+01</td>\n",
       "      <td>5.967721e+01</td>\n",
       "      <td>7.415867e+02</td>\n",
       "      <td>7.297232e+00</td>\n",
       "      <td>2.066033e+01</td>\n",
       "      <td>0.0</td>\n",
       "      <td>0.0</td>\n",
       "      <td>1.917943e+01</td>\n",
       "      <td>3.703355e+00</td>\n",
       "      <td>1.502162e+01</td>\n",
       "      <td>9.013728e-02</td>\n",
       "      <td>2.529649e+01</td>\n",
       "    </tr>\n",
       "    <tr>\n",
       "      <th>std</th>\n",
       "      <td>4.543300e+02</td>\n",
       "      <td>4.211782e+02</td>\n",
       "      <td>5.839416e+02</td>\n",
       "      <td>4.617372e+02</td>\n",
       "      <td>1.997547e+03</td>\n",
       "      <td>7.229636e+01</td>\n",
       "      <td>6.953201e+01</td>\n",
       "      <td>6.817454e+01</td>\n",
       "      <td>6.075380e+01</td>\n",
       "      <td>5.986881e+01</td>\n",
       "      <td>5.593643e+02</td>\n",
       "      <td>6.033239e+00</td>\n",
       "      <td>1.667983e+01</td>\n",
       "      <td>0.0</td>\n",
       "      <td>0.0</td>\n",
       "      <td>4.354624e+01</td>\n",
       "      <td>2.149153e+01</td>\n",
       "      <td>3.383308e+01</td>\n",
       "      <td>2.022716e+00</td>\n",
       "      <td>4.205489e+01</td>\n",
       "    </tr>\n",
       "    <tr>\n",
       "      <th>min</th>\n",
       "      <td>1.000000e+00</td>\n",
       "      <td>0.000000e+00</td>\n",
       "      <td>1.000000e+00</td>\n",
       "      <td>0.000000e+00</td>\n",
       "      <td>1.000000e+00</td>\n",
       "      <td>1.400000e+01</td>\n",
       "      <td>-2.100000e+01</td>\n",
       "      <td>0.000000e+00</td>\n",
       "      <td>1.500000e+01</td>\n",
       "      <td>6.000000e+00</td>\n",
       "      <td>1.100000e+01</td>\n",
       "      <td>0.000000e+00</td>\n",
       "      <td>0.000000e+00</td>\n",
       "      <td>0.0</td>\n",
       "      <td>0.0</td>\n",
       "      <td>0.000000e+00</td>\n",
       "      <td>0.000000e+00</td>\n",
       "      <td>0.000000e+00</td>\n",
       "      <td>0.000000e+00</td>\n",
       "      <td>0.000000e+00</td>\n",
       "    </tr>\n",
       "    <tr>\n",
       "      <th>25%</th>\n",
       "      <td>1.232000e+03</td>\n",
       "      <td>1.150000e+03</td>\n",
       "      <td>1.326000e+03</td>\n",
       "      <td>1.340000e+03</td>\n",
       "      <td>6.370000e+02</td>\n",
       "      <td>8.300000e+01</td>\n",
       "      <td>8.000000e+01</td>\n",
       "      <td>5.800000e+01</td>\n",
       "      <td>2.600000e+01</td>\n",
       "      <td>2.400000e+01</td>\n",
       "      <td>3.340000e+02</td>\n",
       "      <td>4.000000e+00</td>\n",
       "      <td>1.100000e+01</td>\n",
       "      <td>0.0</td>\n",
       "      <td>0.0</td>\n",
       "      <td>0.000000e+00</td>\n",
       "      <td>0.000000e+00</td>\n",
       "      <td>0.000000e+00</td>\n",
       "      <td>0.000000e+00</td>\n",
       "      <td>0.000000e+00</td>\n",
       "    </tr>\n",
       "    <tr>\n",
       "      <th>50%</th>\n",
       "      <td>1.618000e+03</td>\n",
       "      <td>1.529000e+03</td>\n",
       "      <td>1.737000e+03</td>\n",
       "      <td>1.722000e+03</td>\n",
       "      <td>1.589000e+03</td>\n",
       "      <td>1.180000e+02</td>\n",
       "      <td>1.150000e+02</td>\n",
       "      <td>9.000000e+01</td>\n",
       "      <td>4.300000e+01</td>\n",
       "      <td>4.100000e+01</td>\n",
       "      <td>5.950000e+02</td>\n",
       "      <td>6.000000e+00</td>\n",
       "      <td>1.600000e+01</td>\n",
       "      <td>0.0</td>\n",
       "      <td>0.0</td>\n",
       "      <td>2.000000e+00</td>\n",
       "      <td>0.000000e+00</td>\n",
       "      <td>2.000000e+00</td>\n",
       "      <td>0.000000e+00</td>\n",
       "      <td>8.000000e+00</td>\n",
       "    </tr>\n",
       "    <tr>\n",
       "      <th>75%</th>\n",
       "      <td>1.924000e+03</td>\n",
       "      <td>1.830000e+03</td>\n",
       "      <td>2.048000e+03</td>\n",
       "      <td>2.022000e+03</td>\n",
       "      <td>3.676000e+03</td>\n",
       "      <td>1.670000e+02</td>\n",
       "      <td>1.610000e+02</td>\n",
       "      <td>1.360000e+02</td>\n",
       "      <td>7.900000e+01</td>\n",
       "      <td>7.500000e+01</td>\n",
       "      <td>9.720000e+02</td>\n",
       "      <td>8.000000e+00</td>\n",
       "      <td>2.400000e+01</td>\n",
       "      <td>0.0</td>\n",
       "      <td>0.0</td>\n",
       "      <td>2.100000e+01</td>\n",
       "      <td>0.000000e+00</td>\n",
       "      <td>1.500000e+01</td>\n",
       "      <td>0.000000e+00</td>\n",
       "      <td>3.300000e+01</td>\n",
       "    </tr>\n",
       "    <tr>\n",
       "      <th>max</th>\n",
       "      <td>2.400000e+03</td>\n",
       "      <td>2.359000e+03</td>\n",
       "      <td>2.400000e+03</td>\n",
       "      <td>2.359000e+03</td>\n",
       "      <td>9.741000e+03</td>\n",
       "      <td>1.114000e+03</td>\n",
       "      <td>6.600000e+02</td>\n",
       "      <td>1.091000e+03</td>\n",
       "      <td>2.461000e+03</td>\n",
       "      <td>2.467000e+03</td>\n",
       "      <td>4.962000e+03</td>\n",
       "      <td>2.400000e+02</td>\n",
       "      <td>4.220000e+02</td>\n",
       "      <td>0.0</td>\n",
       "      <td>0.0</td>\n",
       "      <td>2.436000e+03</td>\n",
       "      <td>1.352000e+03</td>\n",
       "      <td>1.357000e+03</td>\n",
       "      <td>3.920000e+02</td>\n",
       "      <td>1.316000e+03</td>\n",
       "    </tr>\n",
       "  </tbody>\n",
       "</table>\n",
       "</div>"
      ],
      "text/plain": [
       "            DepTime    CRSDepTime       ArrTime    CRSArrTime     FlightNum  \\\n",
       "count  1.247486e+06  1.247486e+06  1.247486e+06  1.247486e+06  1.247486e+06   \n",
       "mean   1.558832e+03  1.487949e+03  1.616749e+03  1.652458e+03  2.276526e+03   \n",
       "std    4.543300e+02  4.211782e+02  5.839416e+02  4.617372e+02  1.997547e+03   \n",
       "min    1.000000e+00  0.000000e+00  1.000000e+00  0.000000e+00  1.000000e+00   \n",
       "25%    1.232000e+03  1.150000e+03  1.326000e+03  1.340000e+03  6.370000e+02   \n",
       "50%    1.618000e+03  1.529000e+03  1.737000e+03  1.722000e+03  1.589000e+03   \n",
       "75%    1.924000e+03  1.830000e+03  2.048000e+03  2.022000e+03  3.676000e+03   \n",
       "max    2.400000e+03  2.359000e+03  2.400000e+03  2.359000e+03  9.741000e+03   \n",
       "\n",
       "       ActualElapsedTime  CRSElapsedTime       AirTime      ArrDelay  \\\n",
       "count       1.247486e+06    1.247486e+06  1.247486e+06  1.247486e+06   \n",
       "mean        1.353779e+02    1.317641e+02  1.074203e+02  6.329104e+01   \n",
       "std         7.229636e+01    6.953201e+01  6.817454e+01  6.075380e+01   \n",
       "min         1.400000e+01   -2.100000e+01  0.000000e+00  1.500000e+01   \n",
       "25%         8.300000e+01    8.000000e+01  5.800000e+01  2.600000e+01   \n",
       "50%         1.180000e+02    1.150000e+02  9.000000e+01  4.300000e+01   \n",
       "75%         1.670000e+02    1.610000e+02  1.360000e+02  7.900000e+01   \n",
       "max         1.114000e+03    6.600000e+02  1.091000e+03  2.461000e+03   \n",
       "\n",
       "           DepDelay      Distance        TaxiIn       TaxiOut  Cancelled  \\\n",
       "count  1.247486e+06  1.247486e+06  1.247486e+06  1.247486e+06  1247486.0   \n",
       "mean   5.967721e+01  7.415867e+02  7.297232e+00  2.066033e+01        0.0   \n",
       "std    5.986881e+01  5.593643e+02  6.033239e+00  1.667983e+01        0.0   \n",
       "min    6.000000e+00  1.100000e+01  0.000000e+00  0.000000e+00        0.0   \n",
       "25%    2.400000e+01  3.340000e+02  4.000000e+00  1.100000e+01        0.0   \n",
       "50%    4.100000e+01  5.950000e+02  6.000000e+00  1.600000e+01        0.0   \n",
       "75%    7.500000e+01  9.720000e+02  8.000000e+00  2.400000e+01        0.0   \n",
       "max    2.467000e+03  4.962000e+03  2.400000e+02  4.220000e+02        0.0   \n",
       "\n",
       "        Diverted  CarrierDelay  WeatherDelay      NASDelay  SecurityDelay  \\\n",
       "count  1247486.0  1.247486e+06  1.247486e+06  1.247486e+06   1.247486e+06   \n",
       "mean         0.0  1.917943e+01  3.703355e+00  1.502162e+01   9.013728e-02   \n",
       "std          0.0  4.354624e+01  2.149153e+01  3.383308e+01   2.022716e+00   \n",
       "min          0.0  0.000000e+00  0.000000e+00  0.000000e+00   0.000000e+00   \n",
       "25%          0.0  0.000000e+00  0.000000e+00  0.000000e+00   0.000000e+00   \n",
       "50%          0.0  2.000000e+00  0.000000e+00  2.000000e+00   0.000000e+00   \n",
       "75%          0.0  2.100000e+01  0.000000e+00  1.500000e+01   0.000000e+00   \n",
       "max          0.0  2.436000e+03  1.352000e+03  1.357000e+03   3.920000e+02   \n",
       "\n",
       "       LateAircraftDelay  \n",
       "count       1.247486e+06  \n",
       "mean        2.529649e+01  \n",
       "std         4.205489e+01  \n",
       "min         0.000000e+00  \n",
       "25%         0.000000e+00  \n",
       "50%         8.000000e+00  \n",
       "75%         3.300000e+01  \n",
       "max         1.316000e+03  "
      ]
     },
     "execution_count": 18,
     "metadata": {},
     "output_type": "execute_result"
    }
   ],
   "source": [
    "df_drop.describe()"
   ]
  },
  {
   "cell_type": "code",
   "execution_count": 19,
   "id": "21aa18e2",
   "metadata": {},
   "outputs": [],
   "source": [
    "#### Creem nova columna basada en ArrDelay per convertir en categoria la dada x > 0"
   ]
  },
  {
   "cell_type": "code",
   "execution_count": 20,
   "id": "e11c8471",
   "metadata": {},
   "outputs": [],
   "source": [
    "df_cat = df\n",
    "df_cat['BinaryDelay']= df_cat['ArrDelay'].apply(lambda x: 1 if (x > 0) else 0) "
   ]
  },
  {
   "cell_type": "code",
   "execution_count": 21,
   "id": "5dffdee4",
   "metadata": {},
   "outputs": [
    {
     "data": {
      "text/plain": [
       "Index(['Year', 'Month', 'DayofMonth', 'DayOfWeek', 'DepTime', 'CRSDepTime',\n",
       "       'ArrTime', 'CRSArrTime', 'UniqueCarrier', 'FlightNum', 'TailNum',\n",
       "       'ActualElapsedTime', 'CRSElapsedTime', 'AirTime', 'ArrDelay',\n",
       "       'DepDelay', 'Origin', 'Dest', 'Distance', 'TaxiIn', 'TaxiOut',\n",
       "       'Cancelled', 'CancellationCode', 'Diverted', 'CarrierDelay',\n",
       "       'WeatherDelay', 'NASDelay', 'SecurityDelay', 'LateAircraftDelay',\n",
       "       'BinaryDelay'],\n",
       "      dtype='object')"
      ]
     },
     "execution_count": 21,
     "metadata": {},
     "output_type": "execute_result"
    }
   ],
   "source": [
    "df_cat.columns"
   ]
  },
  {
   "cell_type": "code",
   "execution_count": 22,
   "id": "019cd36f",
   "metadata": {},
   "outputs": [],
   "source": [
    "# Eliminar columnes NaNs desde el principi\n",
    "df_cat.drop(['CarrierDelay','WeatherDelay','NASDelay','SecurityDelay','LateAircraftDelay'], axis=1, inplace=True)"
   ]
  },
  {
   "cell_type": "code",
   "execution_count": 23,
   "id": "b533c0d1",
   "metadata": {},
   "outputs": [
    {
     "data": {
      "text/plain": [
       "0          0\n",
       "1          1\n",
       "2          1\n",
       "4          1\n",
       "5          1\n",
       "          ..\n",
       "7009710    1\n",
       "7009717    1\n",
       "7009718    1\n",
       "7009726    1\n",
       "7009727    0\n",
       "Name: BinaryDelay, Length: 1936758, dtype: int64"
      ]
     },
     "execution_count": 23,
     "metadata": {},
     "output_type": "execute_result"
    }
   ],
   "source": [
    "df_cat['BinaryDelay']"
   ]
  },
  {
   "cell_type": "code",
   "execution_count": 24,
   "id": "c6cd5e37",
   "metadata": {},
   "outputs": [
    {
     "name": "stdout",
     "output_type": "stream",
     "text": [
      "1    1723415\n",
      "0     213343\n",
      "Name: BinaryDelay, dtype: int64\n"
     ]
    }
   ],
   "source": [
    "print(df_cat['BinaryDelay'].value_counts())"
   ]
  },
  {
   "cell_type": "code",
   "execution_count": 25,
   "id": "7fb1b9e4",
   "metadata": {},
   "outputs": [
    {
     "data": {
      "text/plain": [
       "(1936758, 25)"
      ]
     },
     "execution_count": 25,
     "metadata": {},
     "output_type": "execute_result"
    }
   ],
   "source": [
    "df_cat.shape"
   ]
  },
  {
   "cell_type": "code",
   "execution_count": 26,
   "id": "b1581dea",
   "metadata": {},
   "outputs": [],
   "source": [
    "# Fem un sample per treballar sense delays al treballar amb un dataset molt voluminós\n",
    "np.random.seed(1234)\n",
    "df_cat_sample = df_cat.sample(n = 10000)\n",
    "\n",
    "BinaryDelayTemp = df_cat_sample[['BinaryDelay']]\n"
   ]
  },
  {
   "cell_type": "code",
   "execution_count": 27,
   "id": "0846b6ef",
   "metadata": {},
   "outputs": [],
   "source": [
    "# Normalitzem amb standardScaler\n",
    "list_nums = []\n",
    "\n",
    "for column in df_cat:\n",
    "    if df_cat_sample[column].dtype == 'int64' or df_cat[column].dtype == 'float64':\n",
    "        list_nums.append(column)\n",
    "        \n",
    "#df_nums.append('BinaryDelay')\n",
    "df_nums =  df_cat_sample[list_nums]"
   ]
  },
  {
   "cell_type": "code",
   "execution_count": 28,
   "id": "a90ae128",
   "metadata": {},
   "outputs": [],
   "source": [
    "scaler = StandardScaler()\n",
    "df_standarized = pd.DataFrame(scaler.fit_transform(df_cat_sample[list_nums].values))\n",
    "df_standarized.columns = list_nums"
   ]
  },
  {
   "cell_type": "code",
   "execution_count": 29,
   "id": "16d3484b",
   "metadata": {},
   "outputs": [
    {
     "data": {
      "text/html": [
       "<div>\n",
       "<style scoped>\n",
       "    .dataframe tbody tr th:only-of-type {\n",
       "        vertical-align: middle;\n",
       "    }\n",
       "\n",
       "    .dataframe tbody tr th {\n",
       "        vertical-align: top;\n",
       "    }\n",
       "\n",
       "    .dataframe thead th {\n",
       "        text-align: right;\n",
       "    }\n",
       "</style>\n",
       "<table border=\"1\" class=\"dataframe\">\n",
       "  <thead>\n",
       "    <tr style=\"text-align: right;\">\n",
       "      <th></th>\n",
       "      <th>BinaryDelay</th>\n",
       "    </tr>\n",
       "  </thead>\n",
       "  <tbody>\n",
       "    <tr>\n",
       "      <th>1006678</th>\n",
       "      <td>1</td>\n",
       "    </tr>\n",
       "    <tr>\n",
       "      <th>5999756</th>\n",
       "      <td>1</td>\n",
       "    </tr>\n",
       "    <tr>\n",
       "      <th>737895</th>\n",
       "      <td>1</td>\n",
       "    </tr>\n",
       "    <tr>\n",
       "      <th>3149009</th>\n",
       "      <td>1</td>\n",
       "    </tr>\n",
       "    <tr>\n",
       "      <th>4565447</th>\n",
       "      <td>1</td>\n",
       "    </tr>\n",
       "  </tbody>\n",
       "</table>\n",
       "</div>"
      ],
      "text/plain": [
       "         BinaryDelay\n",
       "1006678            1\n",
       "5999756            1\n",
       "737895             1\n",
       "3149009            1\n",
       "4565447            1"
      ]
     },
     "execution_count": 29,
     "metadata": {},
     "output_type": "execute_result"
    }
   ],
   "source": [
    "BinaryDelayTemp.head()"
   ]
  },
  {
   "cell_type": "code",
   "execution_count": 30,
   "id": "af1f691c",
   "metadata": {},
   "outputs": [],
   "source": [
    "# Si ho afegeixo aqui peten les grafiques de despres\n",
    "\n",
    "df_std2 = df_standarized\n",
    "\n",
    "#df_std2['BinaryDelay'] = df_cat[['BinaryDelay']].astype('int')\n",
    "df_std2['BinaryDelay'] = BinaryDelayTemp.values"
   ]
  },
  {
   "cell_type": "code",
   "execution_count": 31,
   "id": "1b1de0f5",
   "metadata": {},
   "outputs": [
    {
     "data": {
      "text/plain": [
       "0       1\n",
       "1       1\n",
       "2       1\n",
       "3       1\n",
       "4       1\n",
       "       ..\n",
       "9995    1\n",
       "9996    1\n",
       "9997    1\n",
       "9998    1\n",
       "9999    1\n",
       "Name: BinaryDelay, Length: 10000, dtype: int64"
      ]
     },
     "execution_count": 31,
     "metadata": {},
     "output_type": "execute_result"
    }
   ],
   "source": [
    "df_std2.BinaryDelay"
   ]
  },
  {
   "cell_type": "code",
   "execution_count": 32,
   "id": "1e3c31d6",
   "metadata": {},
   "outputs": [],
   "source": [
    "df_std2 = df_std2.dropna(subset=[\"ArrTime\",\"ActualElapsedTime\"])"
   ]
  },
  {
   "cell_type": "code",
   "execution_count": 33,
   "id": "e09697e1",
   "metadata": {},
   "outputs": [
    {
     "data": {
      "text/plain": [
       "DepTime              9961\n",
       "CRSDepTime           9961\n",
       "ArrTime              9961\n",
       "CRSArrTime           9961\n",
       "FlightNum            9961\n",
       "ActualElapsedTime    9961\n",
       "CRSElapsedTime       9961\n",
       "AirTime              9961\n",
       "ArrDelay             9961\n",
       "DepDelay             9961\n",
       "Distance             9961\n",
       "TaxiIn               9961\n",
       "TaxiOut              9961\n",
       "Cancelled            9961\n",
       "Diverted             9961\n",
       "BinaryDelay          9961\n",
       "dtype: int64"
      ]
     },
     "execution_count": 33,
     "metadata": {},
     "output_type": "execute_result"
    }
   ],
   "source": [
    "df_std2.count()"
   ]
  },
  {
   "cell_type": "code",
   "execution_count": 34,
   "id": "aa00fcc4",
   "metadata": {},
   "outputs": [
    {
     "data": {
      "text/plain": [
       "Text(0.5, 0, 'Variables Std')"
      ]
     },
     "execution_count": 34,
     "metadata": {},
     "output_type": "execute_result"
    },
    {
     "data": {
      "image/png": "[encoded data removed]",
      "text/plain": [
       "<Figure size 1080x1080 with 1 Axes>"
      ]
     },
     "metadata": {
      "needs_background": "light"
     },
     "output_type": "display_data"
    }
   ],
   "source": [
    "# Comprovació gràfica de la standarització\n",
    "fig, axs = plt.subplots(ncols=1, nrows=1, figsize=(15,15))\n",
    "\n",
    "for column in df_standarized:\n",
    "    sns.kdeplot(df_standarized[column])\n",
    "\n",
    "plt.xlabel('Variables Std')"
   ]
  },
  {
   "cell_type": "code",
   "execution_count": 35,
   "id": "66cee46e",
   "metadata": {},
   "outputs": [
    {
     "name": "stderr",
     "output_type": "stream",
     "text": [
      "/Users/ecanals/opt/anaconda3/lib/python3.8/site-packages/seaborn/_decorators.py:36: FutureWarning: Pass the following variable as a keyword arg: x. From version 0.12, the only valid positional argument will be `data`, and passing other arguments without an explicit keyword will result in an error or misinterpretation.\n",
      "  warnings.warn(\n"
     ]
    },
    {
     "data": {
      "image/png": "[encoded data removed]",
      "text/plain": [
       "<Figure size 432x288 with 1 Axes>"
      ]
     },
     "metadata": {
      "needs_background": "light"
     },
     "output_type": "display_data"
    }
   ],
   "source": [
    "# df.somecolumn = df.somecolumn.replace({True: 1, False: 0})\n",
    "\n",
    "# using seaborns countplot to show distribution of questions in dataset\n",
    "fig, ax = plt.subplots()\n",
    "g = sns.countplot(df_cat.BinaryDelay, palette='viridis')\n",
    "g.set_xticklabels(['Sense Retard', 'Amb Retard'])\n",
    "g.set_yticklabels([])\n",
    "\n",
    "# function to show values on bars\n",
    "def show_values_on_bars(axs):\n",
    "    def _show_on_single_plot(ax):        \n",
    "        for p in ax.patches:\n",
    "            _x = p.get_x() + p.get_width() / 2\n",
    "            _y = p.get_y() + p.get_height()\n",
    "            value = '{:.0f}'.format(p.get_height())\n",
    "            ax.text(_x, _y, value, ha=\"center\") \n",
    "\n",
    "    if isinstance(axs, np.ndarray):\n",
    "        for idx, ax in np.ndenumerate(axs):\n",
    "            _show_on_single_plot(ax)\n",
    "    else:\n",
    "        _show_on_single_plot(axs)\n",
    "show_values_on_bars(ax)\n",
    "\n",
    "sns.despine(left=True, bottom=True)\n",
    "plt.xlabel('')\n",
    "plt.ylabel('')\n",
    "plt.title('Distribució de vols amb/sense retard', fontsize=30)\n",
    "plt.tick_params(axis='x', which='major', labelsize=15)\n",
    "plt.show()"
   ]
  },
  {
   "cell_type": "code",
   "execution_count": 36,
   "id": "b7116ab8",
   "metadata": {},
   "outputs": [
    {
     "data": {
      "image/png": "[encoded data removed]",
      "text/plain": [
       "<Figure size 1440x720 with 2 Axes>"
      ]
     },
     "metadata": {
      "needs_background": "light"
     },
     "output_type": "display_data"
    }
   ],
   "source": [
    "# Balancejarem per poder entrenar el model amb una distribució més pròxima al 50/50\n",
    "\n",
    " # Before resampling\n",
    "# Sample figsize in inches\n",
    "fig, ax = plt.subplots(figsize=(20,10))         \n",
    "# Imbalanced DataFrame Correlation\n",
    "corr = df_standarized.corr()\n",
    "sns.heatmap(corr, cmap='YlGnBu', annot_kws={'size':30}, ax=ax)\n",
    "ax.set_title(\"Imbalanced Correlation Matrix\", fontsize=14)\n",
    "plt.show()"
   ]
  },
  {
   "cell_type": "code",
   "execution_count": 37,
   "id": "25664bad",
   "metadata": {},
   "outputs": [],
   "source": [
    "from sklearn.utils import resample"
   ]
  },
  {
   "cell_type": "code",
   "execution_count": 38,
   "id": "239ea528",
   "metadata": {},
   "outputs": [],
   "source": [
    "#df_standarized.drop(['CarrierDelay','WeatherDelay','NASDelay','SecurityDelay','LateAircraftDelay'], axis=1, inplace=True)"
   ]
  },
  {
   "cell_type": "code",
   "execution_count": 39,
   "id": "190f8f00",
   "metadata": {},
   "outputs": [
    {
     "data": {
      "text/html": [
       "<div>\n",
       "<style scoped>\n",
       "    .dataframe tbody tr th:only-of-type {\n",
       "        vertical-align: middle;\n",
       "    }\n",
       "\n",
       "    .dataframe tbody tr th {\n",
       "        vertical-align: top;\n",
       "    }\n",
       "\n",
       "    .dataframe thead th {\n",
       "        text-align: right;\n",
       "    }\n",
       "</style>\n",
       "<table border=\"1\" class=\"dataframe\">\n",
       "  <thead>\n",
       "    <tr style=\"text-align: right;\">\n",
       "      <th></th>\n",
       "      <th>DepTime</th>\n",
       "      <th>CRSDepTime</th>\n",
       "      <th>ArrTime</th>\n",
       "      <th>CRSArrTime</th>\n",
       "      <th>FlightNum</th>\n",
       "      <th>ActualElapsedTime</th>\n",
       "      <th>CRSElapsedTime</th>\n",
       "      <th>AirTime</th>\n",
       "      <th>ArrDelay</th>\n",
       "      <th>DepDelay</th>\n",
       "      <th>Distance</th>\n",
       "      <th>TaxiIn</th>\n",
       "      <th>TaxiOut</th>\n",
       "      <th>Cancelled</th>\n",
       "      <th>Diverted</th>\n",
       "      <th>BinaryDelay</th>\n",
       "    </tr>\n",
       "  </thead>\n",
       "  <tbody>\n",
       "    <tr>\n",
       "      <th>0</th>\n",
       "      <td>0.065291</td>\n",
       "      <td>0.146179</td>\n",
       "      <td>0.160646</td>\n",
       "      <td>-0.000959</td>\n",
       "      <td>-1.014080</td>\n",
       "      <td>-0.808863</td>\n",
       "      <td>-0.945613</td>\n",
       "      <td>-0.820250</td>\n",
       "      <td>-0.325800</td>\n",
       "      <td>-0.529775</td>\n",
       "      <td>-0.807472</td>\n",
       "      <td>-0.351944</td>\n",
       "      <td>-0.011756</td>\n",
       "      <td>-0.010001</td>\n",
       "      <td>-0.061762</td>\n",
       "      <td>1</td>\n",
       "    </tr>\n",
       "    <tr>\n",
       "      <th>1</th>\n",
       "      <td>1.150562</td>\n",
       "      <td>1.283178</td>\n",
       "      <td>0.941819</td>\n",
       "      <td>1.019279</td>\n",
       "      <td>0.189799</td>\n",
       "      <td>-1.134041</td>\n",
       "      <td>-1.102477</td>\n",
       "      <td>-1.013204</td>\n",
       "      <td>-0.419802</td>\n",
       "      <td>-0.388496</td>\n",
       "      <td>-1.000488</td>\n",
       "      <td>-0.547966</td>\n",
       "      <td>-0.657605</td>\n",
       "      <td>-0.010001</td>\n",
       "      <td>-0.061762</td>\n",
       "      <td>1</td>\n",
       "    </tr>\n",
       "    <tr>\n",
       "      <th>2</th>\n",
       "      <td>-0.939755</td>\n",
       "      <td>-1.078464</td>\n",
       "      <td>-0.390228</td>\n",
       "      <td>-0.651388</td>\n",
       "      <td>0.226499</td>\n",
       "      <td>-0.073679</td>\n",
       "      <td>0.166695</td>\n",
       "      <td>-0.003907</td>\n",
       "      <td>-0.325800</td>\n",
       "      <td>-0.005025</td>\n",
       "      <td>0.334540</td>\n",
       "      <td>-0.351944</td>\n",
       "      <td>-0.227039</td>\n",
       "      <td>-0.010001</td>\n",
       "      <td>-0.061762</td>\n",
       "      <td>1</td>\n",
       "    </tr>\n",
       "    <tr>\n",
       "      <th>3</th>\n",
       "      <td>1.132735</td>\n",
       "      <td>1.117366</td>\n",
       "      <td>0.997091</td>\n",
       "      <td>1.075838</td>\n",
       "      <td>1.793764</td>\n",
       "      <td>-0.596791</td>\n",
       "      <td>-0.303897</td>\n",
       "      <td>-0.493713</td>\n",
       "      <td>-0.344600</td>\n",
       "      <td>0.055523</td>\n",
       "      <td>-0.432163</td>\n",
       "      <td>-0.547966</td>\n",
       "      <td>-0.442322</td>\n",
       "      <td>-0.010001</td>\n",
       "      <td>-0.061762</td>\n",
       "      <td>1</td>\n",
       "    </tr>\n",
       "    <tr>\n",
       "      <th>4</th>\n",
       "      <td>0.660296</td>\n",
       "      <td>0.596241</td>\n",
       "      <td>0.707836</td>\n",
       "      <td>0.466741</td>\n",
       "      <td>1.170890</td>\n",
       "      <td>-0.384718</td>\n",
       "      <td>-0.589104</td>\n",
       "      <td>-1.161629</td>\n",
       "      <td>0.463823</td>\n",
       "      <td>0.216984</td>\n",
       "      <td>-1.170271</td>\n",
       "      <td>-0.743988</td>\n",
       "      <td>3.935102</td>\n",
       "      <td>-0.010001</td>\n",
       "      <td>-0.061762</td>\n",
       "      <td>1</td>\n",
       "    </tr>\n",
       "    <tr>\n",
       "      <th>...</th>\n",
       "      <td>...</td>\n",
       "      <td>...</td>\n",
       "      <td>...</td>\n",
       "      <td>...</td>\n",
       "      <td>...</td>\n",
       "      <td>...</td>\n",
       "      <td>...</td>\n",
       "      <td>...</td>\n",
       "      <td>...</td>\n",
       "      <td>...</td>\n",
       "      <td>...</td>\n",
       "      <td>...</td>\n",
       "      <td>...</td>\n",
       "      <td>...</td>\n",
       "      <td>...</td>\n",
       "      <td>...</td>\n",
       "    </tr>\n",
       "    <tr>\n",
       "      <th>9995</th>\n",
       "      <td>-0.690165</td>\n",
       "      <td>-0.777633</td>\n",
       "      <td>-0.152560</td>\n",
       "      <td>-0.416450</td>\n",
       "      <td>-0.931375</td>\n",
       "      <td>0.166670</td>\n",
       "      <td>-0.104252</td>\n",
       "      <td>0.129676</td>\n",
       "      <td>0.069011</td>\n",
       "      <td>-0.307766</td>\n",
       "      <td>-0.028259</td>\n",
       "      <td>-0.351944</td>\n",
       "      <td>0.347050</td>\n",
       "      <td>-0.010001</td>\n",
       "      <td>-0.061762</td>\n",
       "      <td>1</td>\n",
       "    </tr>\n",
       "    <tr>\n",
       "      <th>9996</th>\n",
       "      <td>-0.607711</td>\n",
       "      <td>-0.552602</td>\n",
       "      <td>-0.489717</td>\n",
       "      <td>-0.655738</td>\n",
       "      <td>-0.955670</td>\n",
       "      <td>-0.116093</td>\n",
       "      <td>-0.175554</td>\n",
       "      <td>0.070306</td>\n",
       "      <td>-0.551406</td>\n",
       "      <td>-0.671054</td>\n",
       "      <td>-0.181957</td>\n",
       "      <td>-0.547966</td>\n",
       "      <td>-0.729366</td>\n",
       "      <td>-0.010001</td>\n",
       "      <td>-0.061762</td>\n",
       "      <td>1</td>\n",
       "    </tr>\n",
       "    <tr>\n",
       "      <th>9997</th>\n",
       "      <td>1.636372</td>\n",
       "      <td>1.745084</td>\n",
       "      <td>-2.905089</td>\n",
       "      <td>1.552240</td>\n",
       "      <td>-1.085931</td>\n",
       "      <td>-0.370580</td>\n",
       "      <td>-0.389459</td>\n",
       "      <td>-0.330444</td>\n",
       "      <td>0.087812</td>\n",
       "      <td>0.075705</td>\n",
       "      <td>-0.299911</td>\n",
       "      <td>-0.155921</td>\n",
       "      <td>-0.227039</td>\n",
       "      <td>-0.010001</td>\n",
       "      <td>-0.061762</td>\n",
       "      <td>1</td>\n",
       "    </tr>\n",
       "    <tr>\n",
       "      <th>9998</th>\n",
       "      <td>-0.202127</td>\n",
       "      <td>-0.303883</td>\n",
       "      <td>0.182755</td>\n",
       "      <td>-0.014011</td>\n",
       "      <td>0.060055</td>\n",
       "      <td>-0.356442</td>\n",
       "      <td>-0.318157</td>\n",
       "      <td>-0.211703</td>\n",
       "      <td>0.012610</td>\n",
       "      <td>0.075705</td>\n",
       "      <td>-0.208765</td>\n",
       "      <td>-0.547966</td>\n",
       "      <td>-0.585844</td>\n",
       "      <td>-0.010001</td>\n",
       "      <td>-0.061762</td>\n",
       "      <td>1</td>\n",
       "    </tr>\n",
       "    <tr>\n",
       "      <th>9999</th>\n",
       "      <td>0.272540</td>\n",
       "      <td>0.311991</td>\n",
       "      <td>0.575184</td>\n",
       "      <td>0.449338</td>\n",
       "      <td>1.170890</td>\n",
       "      <td>0.491848</td>\n",
       "      <td>0.437642</td>\n",
       "      <td>0.560112</td>\n",
       "      <td>0.012610</td>\n",
       "      <td>-0.065573</td>\n",
       "      <td>0.377433</td>\n",
       "      <td>0.432145</td>\n",
       "      <td>-0.370561</td>\n",
       "      <td>-0.010001</td>\n",
       "      <td>-0.061762</td>\n",
       "      <td>1</td>\n",
       "    </tr>\n",
       "  </tbody>\n",
       "</table>\n",
       "<p>10000 rows × 16 columns</p>\n",
       "</div>"
      ],
      "text/plain": [
       "       DepTime  CRSDepTime   ArrTime  CRSArrTime  FlightNum  \\\n",
       "0     0.065291    0.146179  0.160646   -0.000959  -1.014080   \n",
       "1     1.150562    1.283178  0.941819    1.019279   0.189799   \n",
       "2    -0.939755   -1.078464 -0.390228   -0.651388   0.226499   \n",
       "3     1.132735    1.117366  0.997091    1.075838   1.793764   \n",
       "4     0.660296    0.596241  0.707836    0.466741   1.170890   \n",
       "...        ...         ...       ...         ...        ...   \n",
       "9995 -0.690165   -0.777633 -0.152560   -0.416450  -0.931375   \n",
       "9996 -0.607711   -0.552602 -0.489717   -0.655738  -0.955670   \n",
       "9997  1.636372    1.745084 -2.905089    1.552240  -1.085931   \n",
       "9998 -0.202127   -0.303883  0.182755   -0.014011   0.060055   \n",
       "9999  0.272540    0.311991  0.575184    0.449338   1.170890   \n",
       "\n",
       "      ActualElapsedTime  CRSElapsedTime   AirTime  ArrDelay  DepDelay  \\\n",
       "0             -0.808863       -0.945613 -0.820250 -0.325800 -0.529775   \n",
       "1             -1.134041       -1.102477 -1.013204 -0.419802 -0.388496   \n",
       "2             -0.073679        0.166695 -0.003907 -0.325800 -0.005025   \n",
       "3             -0.596791       -0.303897 -0.493713 -0.344600  0.055523   \n",
       "4             -0.384718       -0.589104 -1.161629  0.463823  0.216984   \n",
       "...                 ...             ...       ...       ...       ...   \n",
       "9995           0.166670       -0.104252  0.129676  0.069011 -0.307766   \n",
       "9996          -0.116093       -0.175554  0.070306 -0.551406 -0.671054   \n",
       "9997          -0.370580       -0.389459 -0.330444  0.087812  0.075705   \n",
       "9998          -0.356442       -0.318157 -0.211703  0.012610  0.075705   \n",
       "9999           0.491848        0.437642  0.560112  0.012610 -0.065573   \n",
       "\n",
       "      Distance    TaxiIn   TaxiOut  Cancelled  Diverted  BinaryDelay  \n",
       "0    -0.807472 -0.351944 -0.011756  -0.010001 -0.061762            1  \n",
       "1    -1.000488 -0.547966 -0.657605  -0.010001 -0.061762            1  \n",
       "2     0.334540 -0.351944 -0.227039  -0.010001 -0.061762            1  \n",
       "3    -0.432163 -0.547966 -0.442322  -0.010001 -0.061762            1  \n",
       "4    -1.170271 -0.743988  3.935102  -0.010001 -0.061762            1  \n",
       "...        ...       ...       ...        ...       ...          ...  \n",
       "9995 -0.028259 -0.351944  0.347050  -0.010001 -0.061762            1  \n",
       "9996 -0.181957 -0.547966 -0.729366  -0.010001 -0.061762            1  \n",
       "9997 -0.299911 -0.155921 -0.227039  -0.010001 -0.061762            1  \n",
       "9998 -0.208765 -0.547966 -0.585844  -0.010001 -0.061762            1  \n",
       "9999  0.377433  0.432145 -0.370561  -0.010001 -0.061762            1  \n",
       "\n",
       "[10000 rows x 16 columns]"
      ]
     },
     "execution_count": 39,
     "metadata": {},
     "output_type": "execute_result"
    }
   ],
   "source": [
    "df_standarized"
   ]
  },
  {
   "cell_type": "code",
   "execution_count": 40,
   "id": "d58102a7",
   "metadata": {},
   "outputs": [],
   "source": [
    "# Separate input features and target\n",
    "#y = df_standarized.BinaryDelay\n",
    "#X = df_standarized.drop('BinaryDelay', axis=1)\n",
    "y = df_standarized.BinaryDelay\n",
    "X = df_standarized\n",
    "\n",
    "# setting up testing and training sets\n",
    "X_train, X_test, y_train, y_test = train_test_split(X, y, test_size=0.25, random_state=27)"
   ]
  },
  {
   "cell_type": "code",
   "execution_count": 41,
   "id": "03e8802a",
   "metadata": {},
   "outputs": [
    {
     "data": {
      "text/html": [
       "<div>\n",
       "<style scoped>\n",
       "    .dataframe tbody tr th:only-of-type {\n",
       "        vertical-align: middle;\n",
       "    }\n",
       "\n",
       "    .dataframe tbody tr th {\n",
       "        vertical-align: top;\n",
       "    }\n",
       "\n",
       "    .dataframe thead th {\n",
       "        text-align: right;\n",
       "    }\n",
       "</style>\n",
       "<table border=\"1\" class=\"dataframe\">\n",
       "  <thead>\n",
       "    <tr style=\"text-align: right;\">\n",
       "      <th></th>\n",
       "      <th>DepTime</th>\n",
       "      <th>CRSDepTime</th>\n",
       "      <th>ArrTime</th>\n",
       "      <th>CRSArrTime</th>\n",
       "      <th>FlightNum</th>\n",
       "      <th>ActualElapsedTime</th>\n",
       "      <th>CRSElapsedTime</th>\n",
       "      <th>AirTime</th>\n",
       "      <th>ArrDelay</th>\n",
       "      <th>DepDelay</th>\n",
       "      <th>Distance</th>\n",
       "      <th>TaxiIn</th>\n",
       "      <th>TaxiOut</th>\n",
       "      <th>Cancelled</th>\n",
       "      <th>Diverted</th>\n",
       "      <th>BinaryDelay</th>\n",
       "      <th>BinaryDelay</th>\n",
       "    </tr>\n",
       "  </thead>\n",
       "  <tbody>\n",
       "    <tr>\n",
       "      <th>1470</th>\n",
       "      <td>0.404021</td>\n",
       "      <td>0.394898</td>\n",
       "      <td>0.359624</td>\n",
       "      <td>0.353623</td>\n",
       "      <td>0.938281</td>\n",
       "      <td>-0.017126</td>\n",
       "      <td>0.166695</td>\n",
       "      <td>0.070306</td>\n",
       "      <td>-0.607808</td>\n",
       "      <td>-0.388496</td>\n",
       "      <td>0.112929</td>\n",
       "      <td>0.040101</td>\n",
       "      <td>-0.442322</td>\n",
       "      <td>-0.010001</td>\n",
       "      <td>-0.061762</td>\n",
       "      <td>1</td>\n",
       "      <td>1</td>\n",
       "    </tr>\n",
       "    <tr>\n",
       "      <th>8042</th>\n",
       "      <td>1.393467</td>\n",
       "      <td>1.567428</td>\n",
       "      <td>1.262395</td>\n",
       "      <td>1.326003</td>\n",
       "      <td>-0.743221</td>\n",
       "      <td>-0.780587</td>\n",
       "      <td>-0.803010</td>\n",
       "      <td>-0.775722</td>\n",
       "      <td>-0.551406</td>\n",
       "      <td>-0.610506</td>\n",
       "      <td>-0.714539</td>\n",
       "      <td>-0.155921</td>\n",
       "      <td>-0.155278</td>\n",
       "      <td>-0.010001</td>\n",
       "      <td>-0.061762</td>\n",
       "      <td>1</td>\n",
       "      <td>1</td>\n",
       "    </tr>\n",
       "    <tr>\n",
       "      <th>8491</th>\n",
       "      <td>-0.235554</td>\n",
       "      <td>-0.635508</td>\n",
       "      <td>0.256451</td>\n",
       "      <td>-0.255474</td>\n",
       "      <td>-0.775269</td>\n",
       "      <td>0.421157</td>\n",
       "      <td>0.095393</td>\n",
       "      <td>0.307788</td>\n",
       "      <td>2.099469</td>\n",
       "      <td>1.791232</td>\n",
       "      <td>-0.028259</td>\n",
       "      <td>-0.351944</td>\n",
       "      <td>0.777616</td>\n",
       "      <td>-0.010001</td>\n",
       "      <td>-0.061762</td>\n",
       "      <td>1</td>\n",
       "      <td>1</td>\n",
       "    </tr>\n",
       "    <tr>\n",
       "      <th>9706</th>\n",
       "      <td>0.845260</td>\n",
       "      <td>0.868647</td>\n",
       "      <td>0.724417</td>\n",
       "      <td>0.671224</td>\n",
       "      <td>-1.110742</td>\n",
       "      <td>-0.865416</td>\n",
       "      <td>-0.888572</td>\n",
       "      <td>-0.849935</td>\n",
       "      <td>-0.382201</td>\n",
       "      <td>-0.428862</td>\n",
       "      <td>-0.954022</td>\n",
       "      <td>1.216234</td>\n",
       "      <td>-0.729366</td>\n",
       "      <td>-0.010001</td>\n",
       "      <td>-0.061762</td>\n",
       "      <td>1</td>\n",
       "      <td>1</td>\n",
       "    </tr>\n",
       "    <tr>\n",
       "      <th>147</th>\n",
       "      <td>-0.866215</td>\n",
       "      <td>-1.327183</td>\n",
       "      <td>-0.318375</td>\n",
       "      <td>-1.079931</td>\n",
       "      <td>-1.032172</td>\n",
       "      <td>2.556020</td>\n",
       "      <td>1.992022</td>\n",
       "      <td>2.118584</td>\n",
       "      <td>2.607083</td>\n",
       "      <td>1.972876</td>\n",
       "      <td>1.780375</td>\n",
       "      <td>0.040101</td>\n",
       "      <td>2.715164</td>\n",
       "      <td>-0.010001</td>\n",
       "      <td>-0.061762</td>\n",
       "      <td>1</td>\n",
       "      <td>1</td>\n",
       "    </tr>\n",
       "  </tbody>\n",
       "</table>\n",
       "</div>"
      ],
      "text/plain": [
       "       DepTime  CRSDepTime   ArrTime  CRSArrTime  FlightNum  \\\n",
       "1470  0.404021    0.394898  0.359624    0.353623   0.938281   \n",
       "8042  1.393467    1.567428  1.262395    1.326003  -0.743221   \n",
       "8491 -0.235554   -0.635508  0.256451   -0.255474  -0.775269   \n",
       "9706  0.845260    0.868647  0.724417    0.671224  -1.110742   \n",
       "147  -0.866215   -1.327183 -0.318375   -1.079931  -1.032172   \n",
       "\n",
       "      ActualElapsedTime  CRSElapsedTime   AirTime  ArrDelay  DepDelay  \\\n",
       "1470          -0.017126        0.166695  0.070306 -0.607808 -0.388496   \n",
       "8042          -0.780587       -0.803010 -0.775722 -0.551406 -0.610506   \n",
       "8491           0.421157        0.095393  0.307788  2.099469  1.791232   \n",
       "9706          -0.865416       -0.888572 -0.849935 -0.382201 -0.428862   \n",
       "147            2.556020        1.992022  2.118584  2.607083  1.972876   \n",
       "\n",
       "      Distance    TaxiIn   TaxiOut  Cancelled  Diverted  BinaryDelay  \\\n",
       "1470  0.112929  0.040101 -0.442322  -0.010001 -0.061762            1   \n",
       "8042 -0.714539 -0.155921 -0.155278  -0.010001 -0.061762            1   \n",
       "8491 -0.028259 -0.351944  0.777616  -0.010001 -0.061762            1   \n",
       "9706 -0.954022  1.216234 -0.729366  -0.010001 -0.061762            1   \n",
       "147   1.780375  0.040101  2.715164  -0.010001 -0.061762            1   \n",
       "\n",
       "      BinaryDelay  \n",
       "1470            1  \n",
       "8042            1  \n",
       "8491            1  \n",
       "9706            1  \n",
       "147             1  "
      ]
     },
     "execution_count": 41,
     "metadata": {},
     "output_type": "execute_result"
    }
   ],
   "source": [
    "# concatenate our training data back together\n",
    "X = pd.concat([X_train, y_train], axis=1)\n",
    "X.head()"
   ]
  },
  {
   "cell_type": "code",
   "execution_count": 42,
   "id": "2193eece",
   "metadata": {},
   "outputs": [
    {
     "data": {
      "text/plain": [
       "0    1058\n",
       "1    1058\n",
       "Name: BinaryDelay, dtype: int64"
      ]
     },
     "execution_count": 42,
     "metadata": {},
     "output_type": "execute_result"
    }
   ],
   "source": [
    "# separate minority and majority classes\n",
    "not_delay = df_std2[df_std2.BinaryDelay==0]\n",
    "delay = df_std2[df_std2.BinaryDelay==1]\n",
    "\n",
    "# upsample minority\n",
    "delay_upsampled = resample(delay,\n",
    "                          replace=True, # sample with replacement\n",
    "                          n_samples=len(not_delay), # match number in majority class\n",
    "                          random_state=27) # reproducible results\n",
    "\n",
    "# combine majority and upsampled minority\n",
    "df_upsampled = pd.concat([not_delay, delay_upsampled])\n",
    "\n",
    "# check new class counts\n",
    "df_upsampled.BinaryDelay.value_counts()"
   ]
  },
  {
   "cell_type": "code",
   "execution_count": 43,
   "id": "91214ba8",
   "metadata": {},
   "outputs": [
    {
     "name": "stderr",
     "output_type": "stream",
     "text": [
      "/Users/ecanals/opt/anaconda3/lib/python3.8/site-packages/seaborn/_decorators.py:36: FutureWarning: Pass the following variable as a keyword arg: x. From version 0.12, the only valid positional argument will be `data`, and passing other arguments without an explicit keyword will result in an error or misinterpretation.\n",
      "  warnings.warn(\n"
     ]
    },
    {
     "data": {
      "image/png": "[encoded data removed]",
      "text/plain": [
       "<Figure size 432x288 with 1 Axes>"
      ]
     },
     "metadata": {
      "needs_background": "light"
     },
     "output_type": "display_data"
    }
   ],
   "source": [
    "# using seaborns countplot to show distribution of questions in dataset\n",
    "fig, ax = plt.subplots()\n",
    "g = sns.countplot(df_upsampled.BinaryDelay, palette='viridis')\n",
    "g.set_xticklabels(['Sense Retard', 'Amb Retard'])\n",
    "g.set_yticklabels([])\n",
    "\n",
    "# function to show values on bars\n",
    "def show_values_on_bars(axs):\n",
    "    def _show_on_single_plot(ax):        \n",
    "        for p in ax.patches:\n",
    "            _x = p.get_x() + p.get_width() / 2\n",
    "            _y = p.get_y() + p.get_height()\n",
    "            value = '{:.0f}'.format(p.get_height())\n",
    "            ax.text(_x, _y, value, ha=\"center\") \n",
    "\n",
    "    if isinstance(axs, np.ndarray):\n",
    "        for idx, ax in np.ndenumerate(axs):\n",
    "            _show_on_single_plot(ax)\n",
    "    else:\n",
    "        _show_on_single_plot(axs)\n",
    "show_values_on_bars(ax)\n",
    "\n",
    "sns.despine(left=True, bottom=True)\n",
    "plt.xlabel('')\n",
    "plt.ylabel('')\n",
    "plt.title('Distribució de vols amb/sense retard', fontsize=30)\n",
    "plt.tick_params(axis='x', which='major', labelsize=15)\n",
    "plt.show()"
   ]
  },
  {
   "cell_type": "markdown",
   "id": "b720de3f",
   "metadata": {},
   "source": [
    "#### Model Classificació 1. Decisión Tree"
   ]
  },
  {
   "cell_type": "code",
   "execution_count": 44,
   "id": "b85a1662",
   "metadata": {},
   "outputs": [],
   "source": [
    "from sklearn.tree import DecisionTreeClassifier # Import Decision Tree Classifier\n",
    "from sklearn.model_selection import train_test_split # Import train_test_split function\n",
    "from sklearn import metrics #Import scikit-learn metrics module for accuracy calculation"
   ]
  },
  {
   "cell_type": "code",
   "execution_count": 45,
   "id": "37513d98",
   "metadata": {
    "scrolled": true
   },
   "outputs": [
    {
     "data": {
      "text/html": [
       "<div>\n",
       "<style scoped>\n",
       "    .dataframe tbody tr th:only-of-type {\n",
       "        vertical-align: middle;\n",
       "    }\n",
       "\n",
       "    .dataframe tbody tr th {\n",
       "        vertical-align: top;\n",
       "    }\n",
       "\n",
       "    .dataframe thead th {\n",
       "        text-align: right;\n",
       "    }\n",
       "</style>\n",
       "<table border=\"1\" class=\"dataframe\">\n",
       "  <thead>\n",
       "    <tr style=\"text-align: right;\">\n",
       "      <th></th>\n",
       "      <th>DepTime</th>\n",
       "      <th>CRSDepTime</th>\n",
       "      <th>ArrTime</th>\n",
       "      <th>CRSArrTime</th>\n",
       "      <th>FlightNum</th>\n",
       "      <th>ActualElapsedTime</th>\n",
       "      <th>CRSElapsedTime</th>\n",
       "      <th>AirTime</th>\n",
       "      <th>ArrDelay</th>\n",
       "      <th>DepDelay</th>\n",
       "      <th>Distance</th>\n",
       "      <th>TaxiIn</th>\n",
       "      <th>TaxiOut</th>\n",
       "      <th>Cancelled</th>\n",
       "      <th>Diverted</th>\n",
       "      <th>BinaryDelay</th>\n",
       "    </tr>\n",
       "  </thead>\n",
       "  <tbody>\n",
       "    <tr>\n",
       "      <th>10</th>\n",
       "      <td>0.421849</td>\n",
       "      <td>0.537023</td>\n",
       "      <td>0.370679</td>\n",
       "      <td>0.416708</td>\n",
       "      <td>-0.018515</td>\n",
       "      <td>-0.893692</td>\n",
       "      <td>-0.560583</td>\n",
       "      <td>-0.909305</td>\n",
       "      <td>-1.040220</td>\n",
       "      <td>-0.630688</td>\n",
       "      <td>-0.898619</td>\n",
       "      <td>0.040101</td>\n",
       "      <td>-0.155278</td>\n",
       "      <td>-0.010001</td>\n",
       "      <td>-0.061762</td>\n",
       "      <td>0</td>\n",
       "    </tr>\n",
       "    <tr>\n",
       "      <th>16</th>\n",
       "      <td>0.430762</td>\n",
       "      <td>0.537023</td>\n",
       "      <td>0.519912</td>\n",
       "      <td>0.584210</td>\n",
       "      <td>-1.082312</td>\n",
       "      <td>-0.370580</td>\n",
       "      <td>-0.032950</td>\n",
       "      <td>-0.211703</td>\n",
       "      <td>-0.965018</td>\n",
       "      <td>-0.549958</td>\n",
       "      <td>-0.174808</td>\n",
       "      <td>0.236123</td>\n",
       "      <td>-0.944649</td>\n",
       "      <td>-0.010001</td>\n",
       "      <td>-0.061762</td>\n",
       "      <td>0</td>\n",
       "    </tr>\n",
       "    <tr>\n",
       "      <th>21</th>\n",
       "      <td>0.303739</td>\n",
       "      <td>0.406741</td>\n",
       "      <td>0.602820</td>\n",
       "      <td>0.790868</td>\n",
       "      <td>-0.407230</td>\n",
       "      <td>-0.342304</td>\n",
       "      <td>0.109654</td>\n",
       "      <td>-0.330444</td>\n",
       "      <td>-1.153023</td>\n",
       "      <td>-0.590323</td>\n",
       "      <td>-0.053279</td>\n",
       "      <td>-0.547966</td>\n",
       "      <td>0.060005</td>\n",
       "      <td>-0.010001</td>\n",
       "      <td>-0.061762</td>\n",
       "      <td>0</td>\n",
       "    </tr>\n",
       "    <tr>\n",
       "      <th>38</th>\n",
       "      <td>-1.929201</td>\n",
       "      <td>-1.950163</td>\n",
       "      <td>-1.768335</td>\n",
       "      <td>-2.047961</td>\n",
       "      <td>-0.539042</td>\n",
       "      <td>-0.978521</td>\n",
       "      <td>-0.888572</td>\n",
       "      <td>-0.968676</td>\n",
       "      <td>-0.814613</td>\n",
       "      <td>-0.731602</td>\n",
       "      <td>-0.918278</td>\n",
       "      <td>0.236123</td>\n",
       "      <td>-0.370561</td>\n",
       "      <td>-0.010001</td>\n",
       "      <td>-0.061762</td>\n",
       "      <td>0</td>\n",
       "    </tr>\n",
       "    <tr>\n",
       "      <th>43</th>\n",
       "      <td>-0.710221</td>\n",
       "      <td>-0.753945</td>\n",
       "      <td>-0.661059</td>\n",
       "      <td>-0.742752</td>\n",
       "      <td>0.719629</td>\n",
       "      <td>-1.063350</td>\n",
       "      <td>-0.959874</td>\n",
       "      <td>-0.909305</td>\n",
       "      <td>-0.795813</td>\n",
       "      <td>-0.691236</td>\n",
       "      <td>-0.834280</td>\n",
       "      <td>-0.547966</td>\n",
       "      <td>-0.801127</td>\n",
       "      <td>-0.010001</td>\n",
       "      <td>-0.061762</td>\n",
       "      <td>0</td>\n",
       "    </tr>\n",
       "  </tbody>\n",
       "</table>\n",
       "</div>"
      ],
      "text/plain": [
       "     DepTime  CRSDepTime   ArrTime  CRSArrTime  FlightNum  ActualElapsedTime  \\\n",
       "10  0.421849    0.537023  0.370679    0.416708  -0.018515          -0.893692   \n",
       "16  0.430762    0.537023  0.519912    0.584210  -1.082312          -0.370580   \n",
       "21  0.303739    0.406741  0.602820    0.790868  -0.407230          -0.342304   \n",
       "38 -1.929201   -1.950163 -1.768335   -2.047961  -0.539042          -0.978521   \n",
       "43 -0.710221   -0.753945 -0.661059   -0.742752   0.719629          -1.063350   \n",
       "\n",
       "    CRSElapsedTime   AirTime  ArrDelay  DepDelay  Distance    TaxiIn  \\\n",
       "10       -0.560583 -0.909305 -1.040220 -0.630688 -0.898619  0.040101   \n",
       "16       -0.032950 -0.211703 -0.965018 -0.549958 -0.174808  0.236123   \n",
       "21        0.109654 -0.330444 -1.153023 -0.590323 -0.053279 -0.547966   \n",
       "38       -0.888572 -0.968676 -0.814613 -0.731602 -0.918278  0.236123   \n",
       "43       -0.959874 -0.909305 -0.795813 -0.691236 -0.834280 -0.547966   \n",
       "\n",
       "     TaxiOut  Cancelled  Diverted  BinaryDelay  \n",
       "10 -0.155278  -0.010001 -0.061762            0  \n",
       "16 -0.944649  -0.010001 -0.061762            0  \n",
       "21  0.060005  -0.010001 -0.061762            0  \n",
       "38 -0.370561  -0.010001 -0.061762            0  \n",
       "43 -0.801127  -0.010001 -0.061762            0  "
      ]
     },
     "execution_count": 45,
     "metadata": {},
     "output_type": "execute_result"
    }
   ],
   "source": [
    "df_upsampled.head()"
   ]
  },
  {
   "cell_type": "code",
   "execution_count": 46,
   "id": "149b7fb3",
   "metadata": {},
   "outputs": [
    {
     "data": {
      "text/html": [
       "<div>\n",
       "<style scoped>\n",
       "    .dataframe tbody tr th:only-of-type {\n",
       "        vertical-align: middle;\n",
       "    }\n",
       "\n",
       "    .dataframe tbody tr th {\n",
       "        vertical-align: top;\n",
       "    }\n",
       "\n",
       "    .dataframe thead th {\n",
       "        text-align: right;\n",
       "    }\n",
       "</style>\n",
       "<table border=\"1\" class=\"dataframe\">\n",
       "  <thead>\n",
       "    <tr style=\"text-align: right;\">\n",
       "      <th></th>\n",
       "      <th>DepTime</th>\n",
       "      <th>CRSDepTime</th>\n",
       "      <th>ArrTime</th>\n",
       "      <th>CRSArrTime</th>\n",
       "      <th>FlightNum</th>\n",
       "      <th>ActualElapsedTime</th>\n",
       "      <th>CRSElapsedTime</th>\n",
       "      <th>AirTime</th>\n",
       "      <th>ArrDelay</th>\n",
       "      <th>DepDelay</th>\n",
       "      <th>Distance</th>\n",
       "      <th>TaxiIn</th>\n",
       "      <th>TaxiOut</th>\n",
       "      <th>Cancelled</th>\n",
       "      <th>Diverted</th>\n",
       "      <th>BinaryDelay</th>\n",
       "    </tr>\n",
       "  </thead>\n",
       "  <tbody>\n",
       "    <tr>\n",
       "      <th>0</th>\n",
       "      <td>0</td>\n",
       "      <td>0</td>\n",
       "      <td>28</td>\n",
       "      <td>0</td>\n",
       "      <td>0</td>\n",
       "      <td>39</td>\n",
       "      <td>0</td>\n",
       "      <td>39</td>\n",
       "      <td>39</td>\n",
       "      <td>0</td>\n",
       "      <td>0</td>\n",
       "      <td>28</td>\n",
       "      <td>1</td>\n",
       "      <td>0</td>\n",
       "      <td>0</td>\n",
       "      <td>0</td>\n",
       "    </tr>\n",
       "  </tbody>\n",
       "</table>\n",
       "</div>"
      ],
      "text/plain": [
       "   DepTime  CRSDepTime  ArrTime  CRSArrTime  FlightNum  ActualElapsedTime  \\\n",
       "0        0           0       28           0          0                 39   \n",
       "\n",
       "   CRSElapsedTime  AirTime  ArrDelay  DepDelay  Distance  TaxiIn  TaxiOut  \\\n",
       "0               0       39        39         0         0      28        1   \n",
       "\n",
       "   Cancelled  Diverted  BinaryDelay  \n",
       "0          0         0            0  "
      ]
     },
     "metadata": {},
     "output_type": "display_data"
    }
   ],
   "source": [
    "display(df_standarized.isna().sum().to_frame().T)"
   ]
  },
  {
   "cell_type": "code",
   "execution_count": 47,
   "id": "d908dde0",
   "metadata": {},
   "outputs": [],
   "source": [
    "# Split dataset into training set and test set\n",
    "# Separate input features and target\n",
    "\n",
    "# No utilitzem el upsampled perque dona error (NaNs)\n",
    "\n",
    "y = df_std2.BinaryDelay\n",
    "X = df_std2.drop('BinaryDelay', axis=1)\n",
    "#y = df_upsampled.BinaryDelay\n",
    "#X = df_upsampled.drop('BinaryDelay', axis=1)\n",
    "\n",
    "X_train_1, X_test_1, y_train_1, y_test_1 = train_test_split(X, y, test_size=0.3, random_state=1) # 70% training and 30% test"
   ]
  },
  {
   "cell_type": "code",
   "execution_count": 48,
   "id": "67338741",
   "metadata": {},
   "outputs": [
    {
     "data": {
      "text/html": [
       "<div>\n",
       "<style scoped>\n",
       "    .dataframe tbody tr th:only-of-type {\n",
       "        vertical-align: middle;\n",
       "    }\n",
       "\n",
       "    .dataframe tbody tr th {\n",
       "        vertical-align: top;\n",
       "    }\n",
       "\n",
       "    .dataframe thead th {\n",
       "        text-align: right;\n",
       "    }\n",
       "</style>\n",
       "<table border=\"1\" class=\"dataframe\">\n",
       "  <thead>\n",
       "    <tr style=\"text-align: right;\">\n",
       "      <th></th>\n",
       "      <th>DepTime</th>\n",
       "      <th>CRSDepTime</th>\n",
       "      <th>ArrTime</th>\n",
       "      <th>CRSArrTime</th>\n",
       "      <th>FlightNum</th>\n",
       "      <th>ActualElapsedTime</th>\n",
       "      <th>CRSElapsedTime</th>\n",
       "      <th>AirTime</th>\n",
       "      <th>ArrDelay</th>\n",
       "      <th>DepDelay</th>\n",
       "      <th>Distance</th>\n",
       "      <th>TaxiIn</th>\n",
       "      <th>TaxiOut</th>\n",
       "      <th>Cancelled</th>\n",
       "      <th>Diverted</th>\n",
       "    </tr>\n",
       "  </thead>\n",
       "  <tbody>\n",
       "    <tr>\n",
       "      <th>0</th>\n",
       "      <td>0</td>\n",
       "      <td>0</td>\n",
       "      <td>0</td>\n",
       "      <td>0</td>\n",
       "      <td>0</td>\n",
       "      <td>0</td>\n",
       "      <td>0</td>\n",
       "      <td>0</td>\n",
       "      <td>0</td>\n",
       "      <td>0</td>\n",
       "      <td>0</td>\n",
       "      <td>0</td>\n",
       "      <td>0</td>\n",
       "      <td>0</td>\n",
       "      <td>0</td>\n",
       "    </tr>\n",
       "  </tbody>\n",
       "</table>\n",
       "</div>"
      ],
      "text/plain": [
       "   DepTime  CRSDepTime  ArrTime  CRSArrTime  FlightNum  ActualElapsedTime  \\\n",
       "0        0           0        0           0          0                  0   \n",
       "\n",
       "   CRSElapsedTime  AirTime  ArrDelay  DepDelay  Distance  TaxiIn  TaxiOut  \\\n",
       "0               0        0         0         0         0       0        0   \n",
       "\n",
       "   Cancelled  Diverted  \n",
       "0          0         0  "
      ]
     },
     "metadata": {},
     "output_type": "display_data"
    }
   ],
   "source": [
    "# Tractament dels NaNs\n",
    "display(X_train_1.isna().sum().to_frame().T)"
   ]
  },
  {
   "cell_type": "code",
   "execution_count": 49,
   "id": "eccf01c2",
   "metadata": {},
   "outputs": [
    {
     "data": {
      "text/plain": [
       "DepTime              9961\n",
       "CRSDepTime           9961\n",
       "ArrTime              9961\n",
       "CRSArrTime           9961\n",
       "FlightNum            9961\n",
       "ActualElapsedTime    9961\n",
       "CRSElapsedTime       9961\n",
       "AirTime              9961\n",
       "ArrDelay             9961\n",
       "DepDelay             9961\n",
       "Distance             9961\n",
       "TaxiIn               9961\n",
       "TaxiOut              9961\n",
       "Cancelled            9961\n",
       "Diverted             9961\n",
       "BinaryDelay          9961\n",
       "dtype: int64"
      ]
     },
     "execution_count": 49,
     "metadata": {},
     "output_type": "execute_result"
    }
   ],
   "source": [
    "df_std2.count()"
   ]
  },
  {
   "cell_type": "code",
   "execution_count": 50,
   "id": "f3815dca",
   "metadata": {},
   "outputs": [],
   "source": [
    "# Create Decision Tree classifer object\n",
    "clf = DecisionTreeClassifier()\n",
    "\n",
    "# Train Decision Tree Classifer\n",
    "clf = clf.fit(X_train_1,y_train_1)\n",
    "\n",
    "#Predict the response for test dataset\n",
    "y_pred_1 = clf.predict(X_test_1)"
   ]
  },
  {
   "cell_type": "code",
   "execution_count": 51,
   "id": "e790674b",
   "metadata": {},
   "outputs": [
    {
     "name": "stdout",
     "output_type": "stream",
     "text": [
      "Accuracy: 1.0\n"
     ]
    }
   ],
   "source": [
    "# Model Accuracy, how often is the classifier correct?\n",
    "print(\"Accuracy:\",metrics.accuracy_score(y_test_1, y_pred_1))"
   ]
  },
  {
   "cell_type": "code",
   "execution_count": 52,
   "id": "5f59e3a4",
   "metadata": {},
   "outputs": [
    {
     "data": {
      "image/png": "[encoded data removed]",
      "text/plain": [
       "<IPython.core.display.Image object>"
      ]
     },
     "execution_count": 52,
     "metadata": {},
     "output_type": "execute_result"
    }
   ],
   "source": [
    "import graphviz\n",
    "from sklearn.tree import export_graphviz\n",
    "from six import StringIO  \n",
    "from IPython.display import Image \n",
    "from sklearn.tree import export_graphviz\n",
    "\n",
    "import pydotplus\n",
    "\n",
    "dot_data = StringIO()\n",
    "export_graphviz(clf, out_file=dot_data)\n",
    "with open(\"DelayedFlightsTree.dot\") as f:\n",
    "    dot_graph = f.read()\n",
    "graphviz.Source(dot_graph)\n",
    "\n",
    "\n",
    "graph = pydotplus.graph_from_dot_data(dot_data.getvalue())  \n",
    "graph.write_png('DelayedFlightsTree.png')\n",
    "Image(graph.create_png())"
   ]
  },
  {
   "cell_type": "markdown",
   "id": "88eec60c",
   "metadata": {},
   "source": [
    "#### Model Classificació 2. KNeighborsClassifier"
   ]
  },
  {
   "cell_type": "code",
   "execution_count": 53,
   "id": "569edfa7",
   "metadata": {},
   "outputs": [],
   "source": [
    "from sklearn.neighbors import KNeighborsClassifier\n",
    "X_train_2, X_test_2, y_train_2, y_test_2 = train_test_split(X, y, test_size=0.3, random_state=1)"
   ]
  },
  {
   "cell_type": "code",
   "execution_count": 54,
   "id": "1ca83cd4",
   "metadata": {},
   "outputs": [],
   "source": [
    "modelknc= KNeighborsClassifier(n_neighbors=3, weights='distance',leaf_size=40)\n",
    "modelknc.fit(X_train_2, y_train_2)\n",
    "y_pred_2 = modelknc.predict(X_test_2)"
   ]
  },
  {
   "cell_type": "code",
   "execution_count": 55,
   "id": "e7fbbe51",
   "metadata": {},
   "outputs": [],
   "source": [
    "# make class predictions for the testing set\n",
    "y_pred_2 = modelknc.predict(X_test_2)"
   ]
  },
  {
   "cell_type": "code",
   "execution_count": 56,
   "id": "24e1afd7",
   "metadata": {},
   "outputs": [
    {
     "name": "stdout",
     "output_type": "stream",
     "text": [
      "0.9103379056540649\n"
     ]
    }
   ],
   "source": [
    "# calculate accuracy\n",
    "from sklearn import metrics\n",
    "print(metrics.accuracy_score(y_test_2, y_pred_2))"
   ]
  },
  {
   "cell_type": "markdown",
   "id": "d14f3d92",
   "metadata": {},
   "source": [
    "#### Model Classificació 3. RandomForest"
   ]
  },
  {
   "cell_type": "code",
   "execution_count": 57,
   "id": "31066376",
   "metadata": {},
   "outputs": [],
   "source": [
    "X_train_3, X_test_3, y_train_3, y_test_3 = train_test_split(X, y, test_size=0.3, random_state=1)"
   ]
  },
  {
   "cell_type": "code",
   "execution_count": 58,
   "id": "698cec78",
   "metadata": {},
   "outputs": [],
   "source": [
    "#Import Random Forest Model\n",
    "from sklearn.ensemble import RandomForestClassifier\n",
    "\n",
    "#Create a Gaussian Classifier\n",
    "clf_rf=RandomForestClassifier(n_estimators=100)\n",
    "\n",
    "#Train the model using the training sets y_pred=clf.predict(X_test)\n",
    "clf_rf.fit(X_train_3,y_train_3)\n",
    "\n",
    "y_pred_3=clf_rf.predict(X_test_3)"
   ]
  },
  {
   "cell_type": "code",
   "execution_count": 59,
   "id": "ecca995d",
   "metadata": {
    "scrolled": true
   },
   "outputs": [
    {
     "name": "stdout",
     "output_type": "stream",
     "text": [
      "Accuracy: 1.0\n"
     ]
    }
   ],
   "source": [
    "# Model Accuracy, how often is the classifier correct?\n",
    "print(\"Accuracy:\",metrics.accuracy_score(y_test_3, y_pred_3))"
   ]
  },
  {
   "cell_type": "code",
   "execution_count": 60,
   "id": "421a07f3",
   "metadata": {},
   "outputs": [
    {
     "data": {
      "text/plain": [
       "Index(['DepTime', 'CRSDepTime', 'ArrTime', 'CRSArrTime', 'FlightNum',\n",
       "       'ActualElapsedTime', 'CRSElapsedTime', 'AirTime', 'ArrDelay',\n",
       "       'DepDelay', 'Distance', 'TaxiIn', 'TaxiOut', 'Cancelled', 'Diverted',\n",
       "       'BinaryDelay'],\n",
       "      dtype='object')"
      ]
     },
     "execution_count": 60,
     "metadata": {},
     "output_type": "execute_result"
    }
   ],
   "source": [
    "df_std2.columns"
   ]
  },
  {
   "cell_type": "code",
   "execution_count": 61,
   "id": "f52277d7",
   "metadata": {},
   "outputs": [
    {
     "data": {
      "text/plain": [
       "ArrDelay             0.785483\n",
       "DepDelay             0.087354\n",
       "CRSElapsedTime       0.019224\n",
       "TaxiOut              0.019112\n",
       "ActualElapsedTime    0.016540\n",
       "Distance             0.014489\n",
       "AirTime              0.011831\n",
       "DepTime              0.008615\n",
       "FlightNum            0.008306\n",
       "CRSArrTime           0.007834\n",
       "ArrTime              0.007497\n",
       "TaxiIn               0.006883\n",
       "CRSDepTime           0.006833\n",
       "Cancelled            0.000000\n",
       "Diverted             0.000000\n",
       "dtype: float64"
      ]
     },
     "execution_count": 61,
     "metadata": {},
     "output_type": "execute_result"
    }
   ],
   "source": [
    "feature_imp = pd.Series(clf_rf.feature_importances_,index=X.columns).sort_values(ascending=False)\n",
    "feature_imp"
   ]
  },
  {
   "cell_type": "code",
   "execution_count": 62,
   "id": "55e7327e",
   "metadata": {},
   "outputs": [
    {
     "name": "stderr",
     "output_type": "stream",
     "text": [
      "No handles with labels found to put in legend.\n"
     ]
    },
    {
     "data": {
      "image/png": "[encoded data removed]",
      "text/plain": [
       "<Figure size 432x288 with 1 Axes>"
      ]
     },
     "metadata": {
      "needs_background": "light"
     },
     "output_type": "display_data"
    }
   ],
   "source": [
    "# Creating a bar plot\n",
    "sns.barplot(x=feature_imp, y=feature_imp.index)\n",
    "# Add labels to your graph\n",
    "plt.xlabel('Feature Importance Score')\n",
    "plt.ylabel('Features')\n",
    "plt.title(\"Visualizing Important Features\")\n",
    "plt.legend()\n",
    "plt.show()"
   ]
  },
  {
   "cell_type": "markdown",
   "id": "7c02cc62",
   "metadata": {},
   "source": [
    "#### - Exercici 2\n",
    "#### Compara els models de classificació utilitzant la precisió (accuracy), una matriu de confiança i d’altres mètriques més avançades.\n",
    "\n"
   ]
  },
  {
   "cell_type": "markdown",
   "id": "a56eea0a",
   "metadata": {},
   "source": [
    "`\n",
    "TN\tFP\n",
    "FN\tTP\n",
    "`\n",
    "\n",
    "A part de 1 Fals Positiu i un Fals Negatiu. El models acerten amb les prediccions\n",
    "El que millor funciona es Random Forest"
   ]
  },
  {
   "cell_type": "code",
   "execution_count": 63,
   "id": "d222ccd1",
   "metadata": {},
   "outputs": [
    {
     "name": "stdout",
     "output_type": "stream",
     "text": [
      "[[ 315    0]\n",
      " [   0 2674]]\n"
     ]
    }
   ],
   "source": [
    "# Confusion Matrix Model 1. Decision Tree\n",
    "print(metrics.confusion_matrix(y_test_1, y_pred_1))"
   ]
  },
  {
   "cell_type": "code",
   "execution_count": 64,
   "id": "44999db9",
   "metadata": {},
   "outputs": [
    {
     "name": "stdout",
     "output_type": "stream",
     "text": [
      "[[ 126  189]\n",
      " [  79 2595]]\n"
     ]
    }
   ],
   "source": [
    "# Confusion Matrix Model 2. KNeighborsClassifier\n",
    "print(metrics.confusion_matrix(y_test_2, y_pred_2))"
   ]
  },
  {
   "cell_type": "code",
   "execution_count": 65,
   "id": "96d70c72",
   "metadata": {},
   "outputs": [
    {
     "name": "stdout",
     "output_type": "stream",
     "text": [
      "[[ 315    0]\n",
      " [   0 2674]]\n"
     ]
    }
   ],
   "source": [
    "# Confusion Matrix Model 3. Random Forest\n",
    "print(metrics.confusion_matrix(y_test_3, y_pred_3))"
   ]
  },
  {
   "cell_type": "markdown",
   "id": "97f16cd3",
   "metadata": {},
   "source": [
    "#### Conclusions\n",
    "\n",
    "Veiem que els models Decision Tree i Random Forest son els millors en quan a accuracy, seguit del KNeighborsClassifier"
   ]
  },
  {
   "cell_type": "markdown",
   "id": "5f3dc189",
   "metadata": {},
   "source": [
    "#### - Exercici 3\n",
    "#### Entrena’ls utilitzant els diferents paràmetres que admeten."
   ]
  },
  {
   "cell_type": "code",
   "execution_count": 66,
   "id": "db188d0b",
   "metadata": {},
   "outputs": [],
   "source": [
    "# Modifiquem parametres del Random Forest que es el que millor funciona a priori\n",
    "from sklearn.ensemble import RandomForestRegressor\n",
    "from sklearn.metrics import mean_squared_error\n",
    "\n",
    "#Create a Gaussian Classifier\n",
    "clf_rf_mod=RandomForestRegressor(max_depth=10, n_estimators=150, random_state=1)\n",
    "\n",
    "#Train the model using the training sets y_pred=clf.predict(X_test)\n",
    "clf_rf_mod.fit(X_train_3,y_train_3)\n",
    "\n",
    "y_pred_mod=clf_rf_mod.predict(X_test_3)"
   ]
  },
  {
   "cell_type": "code",
   "execution_count": 67,
   "id": "c26cfab3",
   "metadata": {},
   "outputs": [
    {
     "name": "stdout",
     "output_type": "stream",
     "text": [
      "Accuracy: 1.0\n"
     ]
    }
   ],
   "source": [
    "# Model Accuracy, how often is the classifier correct?\n",
    "print(\"Accuracy:\",metrics.accuracy_score(y_test_3, y_pred_3))"
   ]
  },
  {
   "cell_type": "markdown",
   "id": "7b63e43b",
   "metadata": {},
   "source": [
    "#### - Exercici 4\n",
    "#### Compara el seu rendiment utilitzant l’aproximació traint/test o cross-validation."
   ]
  },
  {
   "cell_type": "code",
   "execution_count": 68,
   "id": "2f82e8e2",
   "metadata": {},
   "outputs": [],
   "source": [
    "# Ja hem fet els tres models de classificació amb train/test. Farem el Cross-Validation\n",
    "# i compararem resultats\n",
    "\n",
    "# Comparem amb KFold Cross-validation"
   ]
  },
  {
   "cell_type": "code",
   "execution_count": 69,
   "id": "4bf77584",
   "metadata": {},
   "outputs": [],
   "source": [
    "from sklearn.model_selection import KFold\n",
    "from sklearn.model_selection import cross_val_score\n",
    "\n",
    "from sklearn.metrics import mean_squared_error\n",
    "from sklearn.linear_model import LinearRegression"
   ]
  },
  {
   "cell_type": "code",
   "execution_count": 70,
   "id": "0845ee3a",
   "metadata": {},
   "outputs": [],
   "source": [
    "model = LinearRegression()\n",
    "kfold = KFold(n_splits=10)\n",
    "score = cross_val_score(model,X,y,cv = kfold,scoring = \"neg_mean_squared_error\")"
   ]
  },
  {
   "cell_type": "code",
   "execution_count": 71,
   "id": "b1c2f01a",
   "metadata": {},
   "outputs": [
    {
     "data": {
      "text/plain": [
       "array([-0.08075814, -0.07676508, -0.08786312, -0.08138814, -0.06227573,\n",
       "       -0.07582156, -0.08557813, -0.0806154 , -0.07329208, -0.08570544])"
      ]
     },
     "execution_count": 71,
     "metadata": {},
     "output_type": "execute_result"
    }
   ],
   "source": [
    "score"
   ]
  },
  {
   "cell_type": "code",
   "execution_count": 72,
   "id": "930de670",
   "metadata": {},
   "outputs": [
    {
     "data": {
      "text/plain": [
       "-0.0790062806759265"
      ]
     },
     "execution_count": 72,
     "metadata": {},
     "output_type": "execute_result"
    }
   ],
   "source": [
    "score.mean()"
   ]
  },
  {
   "cell_type": "code",
   "execution_count": 73,
   "id": "6a4df48b",
   "metadata": {},
   "outputs": [],
   "source": [
    "score = -score.mean()"
   ]
  },
  {
   "cell_type": "code",
   "execution_count": 74,
   "id": "3cf68ef3",
   "metadata": {},
   "outputs": [],
   "source": [
    "score = np.sqrt(score)"
   ]
  },
  {
   "cell_type": "code",
   "execution_count": 75,
   "id": "87738276",
   "metadata": {},
   "outputs": [
    {
     "data": {
      "text/plain": [
       "0.2810805590501173"
      ]
     },
     "execution_count": 75,
     "metadata": {},
     "output_type": "execute_result"
    }
   ],
   "source": [
    "score"
   ]
  },
  {
   "cell_type": "markdown",
   "id": "54fb69c4",
   "metadata": {},
   "source": [
    "#### - Exercici 5\n",
    "#### Realitza algun procés d’enginyeria de variables per millorar-ne la predicció"
   ]
  },
  {
   "cell_type": "code",
   "execution_count": 76,
   "id": "97010d8a",
   "metadata": {},
   "outputs": [
    {
     "name": "stderr",
     "output_type": "stream",
     "text": [
      "/Users/ecanals/opt/anaconda3/lib/python3.8/site-packages/seaborn/_decorators.py:36: FutureWarning: Pass the following variable as a keyword arg: x. From version 0.12, the only valid positional argument will be `data`, and passing other arguments without an explicit keyword will result in an error or misinterpretation.\n",
      "  warnings.warn(\n"
     ]
    },
    {
     "data": {
      "image/png": "[encoded data removed]",
      "text/plain": [
       "<Figure size 1080x216 with 1 Axes>"
      ]
     },
     "metadata": {
      "needs_background": "light"
     },
     "output_type": "display_data"
    }
   ],
   "source": [
    "# Tractament dels outliers a ArrDelay\n",
    "\n",
    "out = df_std2['ArrDelay']\n",
    "plt.figure(figsize=(15,3))\n",
    "sns.set_theme(style=\"whitegrid\")\n",
    "plt.title(\"ArrDelay distribution\",fontsize=15)\n",
    "plt.xlabel(\"ArrDelay\",fontsize=12)\n",
    "ax = sns.boxplot(out)"
   ]
  },
  {
   "cell_type": "code",
   "execution_count": 77,
   "id": "70578c77",
   "metadata": {},
   "outputs": [
    {
     "name": "stdout",
     "output_type": "stream",
     "text": [
      "-0.6078076392042394 0.257016686108828\n"
     ]
    }
   ],
   "source": [
    "# eliminate outliers from Q1 and Q3 - 0.25 0.75\n",
    "Q1 = out.quantile(q=0.25)\n",
    "Q3 = out.quantile(q=0.75)\n",
    "print(Q1, Q3)\n"
   ]
  },
  {
   "cell_type": "code",
   "execution_count": 78,
   "id": "5d5b43ca",
   "metadata": {},
   "outputs": [
    {
     "data": {
      "text/html": [
       "<div>\n",
       "<style scoped>\n",
       "    .dataframe tbody tr th:only-of-type {\n",
       "        vertical-align: middle;\n",
       "    }\n",
       "\n",
       "    .dataframe tbody tr th {\n",
       "        vertical-align: top;\n",
       "    }\n",
       "\n",
       "    .dataframe thead th {\n",
       "        text-align: right;\n",
       "    }\n",
       "</style>\n",
       "<table border=\"1\" class=\"dataframe\">\n",
       "  <thead>\n",
       "    <tr style=\"text-align: right;\">\n",
       "      <th></th>\n",
       "      <th>DepTime</th>\n",
       "      <th>CRSDepTime</th>\n",
       "      <th>ArrTime</th>\n",
       "      <th>CRSArrTime</th>\n",
       "      <th>FlightNum</th>\n",
       "      <th>ActualElapsedTime</th>\n",
       "      <th>CRSElapsedTime</th>\n",
       "      <th>AirTime</th>\n",
       "      <th>ArrDelay</th>\n",
       "      <th>DepDelay</th>\n",
       "      <th>Distance</th>\n",
       "      <th>TaxiIn</th>\n",
       "      <th>TaxiOut</th>\n",
       "      <th>Cancelled</th>\n",
       "      <th>Diverted</th>\n",
       "      <th>BinaryDelay</th>\n",
       "    </tr>\n",
       "  </thead>\n",
       "  <tbody>\n",
       "    <tr>\n",
       "      <th>0</th>\n",
       "      <td>0.065291</td>\n",
       "      <td>0.146179</td>\n",
       "      <td>0.160646</td>\n",
       "      <td>-0.000959</td>\n",
       "      <td>-1.014080</td>\n",
       "      <td>-0.808863</td>\n",
       "      <td>-0.945613</td>\n",
       "      <td>-0.820250</td>\n",
       "      <td>-0.325800</td>\n",
       "      <td>-0.529775</td>\n",
       "      <td>-0.807472</td>\n",
       "      <td>-0.351944</td>\n",
       "      <td>-0.011756</td>\n",
       "      <td>-0.010001</td>\n",
       "      <td>-0.061762</td>\n",
       "      <td>1</td>\n",
       "    </tr>\n",
       "    <tr>\n",
       "      <th>1</th>\n",
       "      <td>1.150562</td>\n",
       "      <td>1.283178</td>\n",
       "      <td>0.941819</td>\n",
       "      <td>1.019279</td>\n",
       "      <td>0.189799</td>\n",
       "      <td>-1.134041</td>\n",
       "      <td>-1.102477</td>\n",
       "      <td>-1.013204</td>\n",
       "      <td>-0.419802</td>\n",
       "      <td>-0.388496</td>\n",
       "      <td>-1.000488</td>\n",
       "      <td>-0.547966</td>\n",
       "      <td>-0.657605</td>\n",
       "      <td>-0.010001</td>\n",
       "      <td>-0.061762</td>\n",
       "      <td>1</td>\n",
       "    </tr>\n",
       "    <tr>\n",
       "      <th>2</th>\n",
       "      <td>-0.939755</td>\n",
       "      <td>-1.078464</td>\n",
       "      <td>-0.390228</td>\n",
       "      <td>-0.651388</td>\n",
       "      <td>0.226499</td>\n",
       "      <td>-0.073679</td>\n",
       "      <td>0.166695</td>\n",
       "      <td>-0.003907</td>\n",
       "      <td>-0.325800</td>\n",
       "      <td>-0.005025</td>\n",
       "      <td>0.334540</td>\n",
       "      <td>-0.351944</td>\n",
       "      <td>-0.227039</td>\n",
       "      <td>-0.010001</td>\n",
       "      <td>-0.061762</td>\n",
       "      <td>1</td>\n",
       "    </tr>\n",
       "  </tbody>\n",
       "</table>\n",
       "</div>"
      ],
      "text/plain": [
       "    DepTime  CRSDepTime   ArrTime  CRSArrTime  FlightNum  ActualElapsedTime  \\\n",
       "0  0.065291    0.146179  0.160646   -0.000959  -1.014080          -0.808863   \n",
       "1  1.150562    1.283178  0.941819    1.019279   0.189799          -1.134041   \n",
       "2 -0.939755   -1.078464 -0.390228   -0.651388   0.226499          -0.073679   \n",
       "\n",
       "   CRSElapsedTime   AirTime  ArrDelay  DepDelay  Distance    TaxiIn   TaxiOut  \\\n",
       "0       -0.945613 -0.820250 -0.325800 -0.529775 -0.807472 -0.351944 -0.011756   \n",
       "1       -1.102477 -1.013204 -0.419802 -0.388496 -1.000488 -0.547966 -0.657605   \n",
       "2        0.166695 -0.003907 -0.325800 -0.005025  0.334540 -0.351944 -0.227039   \n",
       "\n",
       "   Cancelled  Diverted  BinaryDelay  \n",
       "0  -0.010001 -0.061762            1  \n",
       "1  -0.010001 -0.061762            1  \n",
       "2  -0.010001 -0.061762            1  "
      ]
     },
     "execution_count": 78,
     "metadata": {},
     "output_type": "execute_result"
    }
   ],
   "source": [
    "df_mod = df_std2[(df_std2['ArrDelay'] >= -0.60) & (df_std2['ArrDelay'] <=0.25)]\n",
    "df_mod.head(3)"
   ]
  },
  {
   "cell_type": "code",
   "execution_count": 79,
   "id": "75c251f0",
   "metadata": {
    "scrolled": true
   },
   "outputs": [
    {
     "name": "stderr",
     "output_type": "stream",
     "text": [
      "/Users/ecanals/opt/anaconda3/lib/python3.8/site-packages/seaborn/_decorators.py:36: FutureWarning: Pass the following variable as a keyword arg: x. From version 0.12, the only valid positional argument will be `data`, and passing other arguments without an explicit keyword will result in an error or misinterpretation.\n",
      "  warnings.warn(\n"
     ]
    },
    {
     "data": {
      "image/png": "[encoded data removed]",
      "text/plain": [
       "<Figure size 1080x216 with 1 Axes>"
      ]
     },
     "metadata": {},
     "output_type": "display_data"
    }
   ],
   "source": [
    "out = df_mod['ArrDelay']\n",
    "plt.figure(figsize=(15,3))\n",
    "sns.set_theme(style=\"whitegrid\")\n",
    "plt.title(\"ArrDelay distribution\",fontsize=15)\n",
    "plt.xlabel(\"ArrDelay\",fontsize=12)\n",
    "ax = sns.boxplot(out)"
   ]
  },
  {
   "cell_type": "code",
   "execution_count": 80,
   "id": "6d9fece9",
   "metadata": {},
   "outputs": [],
   "source": [
    "# Llencem els tres models amb el nou dataset\n",
    "\n",
    "\n",
    "\n",
    "y2 = df_mod.BinaryDelay\n",
    "X2 = df_mod.drop('BinaryDelay', axis=1)\n",
    "\n",
    "X_train_1m, X_test_1m, y_train_1m, y_test_1m = train_test_split(X2, y2, test_size=0.3, random_state=1) # 70% training and 30% test"
   ]
  },
  {
   "cell_type": "code",
   "execution_count": 81,
   "id": "f094ef38",
   "metadata": {},
   "outputs": [],
   "source": [
    "# 1. DecisionTreeClassifier\n",
    "# Create Decision Tree classifer object\n",
    "clf = DecisionTreeClassifier()\n",
    "\n",
    "# Train Decision Tree Classifer\n",
    "clf = clf.fit(X_train_1m,y_train_1m)\n",
    "\n",
    "#Predict the response for test dataset\n",
    "y_pred_1m = clf.predict(X_test_1m)"
   ]
  },
  {
   "cell_type": "code",
   "execution_count": 82,
   "id": "ea34f115",
   "metadata": {},
   "outputs": [
    {
     "name": "stdout",
     "output_type": "stream",
     "text": [
      "Accuracy: 1.0\n"
     ]
    }
   ],
   "source": [
    "# Model Accuracy, how often is the classifier correct?\n",
    "print(\"Accuracy:\",metrics.accuracy_score(y_test_1m, y_pred_1m))"
   ]
  },
  {
   "cell_type": "code",
   "execution_count": 83,
   "id": "fcd2dd5c",
   "metadata": {},
   "outputs": [],
   "source": [
    "# 2. Logistic Regression \n",
    "X_train_2m, X_test_2m, y_train_2m, y_test_2m = train_test_split(X2, y2, test_size=0.3)"
   ]
  },
  {
   "cell_type": "code",
   "execution_count": 84,
   "id": "8184683d",
   "metadata": {},
   "outputs": [],
   "source": [
    "modelknc = KNeighborsClassifier(n_neighbors=3, weights='distance',leaf_size=40)\n",
    "modelknc.fit(X_train_2m, y_train_2m)\n",
    "y_pred_2m = modelknc.predict(X_test_2m)"
   ]
  },
  {
   "cell_type": "code",
   "execution_count": 85,
   "id": "367c5e3c",
   "metadata": {},
   "outputs": [
    {
     "name": "stdout",
     "output_type": "stream",
     "text": [
      "1.0\n"
     ]
    }
   ],
   "source": [
    "print(metrics.accuracy_score(y_test_2m, y_pred_2m))"
   ]
  },
  {
   "cell_type": "code",
   "execution_count": 86,
   "id": "a027c0c3",
   "metadata": {},
   "outputs": [],
   "source": [
    "# 3. Random forest\n",
    "X_train_3m, X_test_3m, y_train_3m, y_test_3m = train_test_split(X2, y2, test_size=0.3, random_state=1)"
   ]
  },
  {
   "cell_type": "code",
   "execution_count": 87,
   "id": "9f01bfd1",
   "metadata": {},
   "outputs": [],
   "source": [
    "#Create a random Forest\n",
    "clf_rf_mod=RandomForestRegressor(max_depth=10, n_estimators=150, random_state=1)\n",
    "\n",
    "#Train the model using the training sets y_pred=clf.predict(X_test)\n",
    "clf_rf_mod.fit(X_train_3m,y_train_3m)\n",
    "\n",
    "y_pred_mod=clf_rf_mod.predict(X_test_3m)"
   ]
  },
  {
   "cell_type": "code",
   "execution_count": 88,
   "id": "5c152612",
   "metadata": {},
   "outputs": [
    {
     "name": "stdout",
     "output_type": "stream",
     "text": [
      "Accuracy: 1.0\n"
     ]
    }
   ],
   "source": [
    "# Model Accuracy, how often is the classifier correct?\n",
    "print(\"Accuracy:\",metrics.accuracy_score(y_test_3m, y_pred_mod))"
   ]
  },
  {
   "cell_type": "code",
   "execution_count": 89,
   "id": "bd57697f",
   "metadata": {},
   "outputs": [
    {
     "name": "stdout",
     "output_type": "stream",
     "text": [
      "[[1445]]\n"
     ]
    }
   ],
   "source": [
    "# Confusion Matrix Model 1. Decision Tree\n",
    "print(metrics.confusion_matrix(y_test_1m, y_pred_1m))"
   ]
  },
  {
   "cell_type": "code",
   "execution_count": 90,
   "id": "fdfc7d39",
   "metadata": {},
   "outputs": [
    {
     "name": "stdout",
     "output_type": "stream",
     "text": [
      "[[1445]]\n"
     ]
    }
   ],
   "source": [
    "# Confusion Matrix Model 1. Decision Tree\n",
    "print(metrics.confusion_matrix(y_test_2m, y_pred_2m))"
   ]
  },
  {
   "cell_type": "code",
   "execution_count": 91,
   "id": "332473a9",
   "metadata": {},
   "outputs": [
    {
     "name": "stdout",
     "output_type": "stream",
     "text": [
      "[[1445]]\n"
     ]
    }
   ],
   "source": [
    "# Confusion Matrix Model 1. Decision Tree\n",
    "print(metrics.confusion_matrix(y_test_3m, y_pred_mod))"
   ]
  },
  {
   "cell_type": "markdown",
   "id": "a02cfcd4",
   "metadata": {},
   "source": [
    "#### Conclusions.\n",
    "\n",
    "El tractament de outliers ha fet millorar el KNeighborsClassifier fins al 1.0"
   ]
  },
  {
   "cell_type": "markdown",
   "id": "dd5f930c",
   "metadata": {},
   "source": [
    "#### - Exercici 6\n",
    "#### No utilitzis la variable DepDelay a l’hora de fer prediccions"
   ]
  },
  {
   "cell_type": "code",
   "execution_count": 92,
   "id": "900bb145",
   "metadata": {},
   "outputs": [],
   "source": [
    "y3 = df_std2.BinaryDelay\n",
    "X3 = df_std2.drop(['BinaryDelay','DepDelay'], axis=1)"
   ]
  },
  {
   "cell_type": "code",
   "execution_count": 93,
   "id": "e7c3844a",
   "metadata": {},
   "outputs": [
    {
     "data": {
      "text/html": [
       "<div>\n",
       "<style scoped>\n",
       "    .dataframe tbody tr th:only-of-type {\n",
       "        vertical-align: middle;\n",
       "    }\n",
       "\n",
       "    .dataframe tbody tr th {\n",
       "        vertical-align: top;\n",
       "    }\n",
       "\n",
       "    .dataframe thead th {\n",
       "        text-align: right;\n",
       "    }\n",
       "</style>\n",
       "<table border=\"1\" class=\"dataframe\">\n",
       "  <thead>\n",
       "    <tr style=\"text-align: right;\">\n",
       "      <th></th>\n",
       "      <th>DepTime</th>\n",
       "      <th>CRSDepTime</th>\n",
       "      <th>ArrTime</th>\n",
       "      <th>CRSArrTime</th>\n",
       "      <th>FlightNum</th>\n",
       "      <th>ActualElapsedTime</th>\n",
       "      <th>CRSElapsedTime</th>\n",
       "      <th>AirTime</th>\n",
       "      <th>ArrDelay</th>\n",
       "      <th>Distance</th>\n",
       "      <th>TaxiIn</th>\n",
       "      <th>TaxiOut</th>\n",
       "      <th>Cancelled</th>\n",
       "      <th>Diverted</th>\n",
       "    </tr>\n",
       "  </thead>\n",
       "  <tbody>\n",
       "    <tr>\n",
       "      <th>0</th>\n",
       "      <td>0.065291</td>\n",
       "      <td>0.146179</td>\n",
       "      <td>0.160646</td>\n",
       "      <td>-0.000959</td>\n",
       "      <td>-1.014080</td>\n",
       "      <td>-0.808863</td>\n",
       "      <td>-0.945613</td>\n",
       "      <td>-0.820250</td>\n",
       "      <td>-0.325800</td>\n",
       "      <td>-0.807472</td>\n",
       "      <td>-0.351944</td>\n",
       "      <td>-0.011756</td>\n",
       "      <td>-0.010001</td>\n",
       "      <td>-0.061762</td>\n",
       "    </tr>\n",
       "    <tr>\n",
       "      <th>1</th>\n",
       "      <td>1.150562</td>\n",
       "      <td>1.283178</td>\n",
       "      <td>0.941819</td>\n",
       "      <td>1.019279</td>\n",
       "      <td>0.189799</td>\n",
       "      <td>-1.134041</td>\n",
       "      <td>-1.102477</td>\n",
       "      <td>-1.013204</td>\n",
       "      <td>-0.419802</td>\n",
       "      <td>-1.000488</td>\n",
       "      <td>-0.547966</td>\n",
       "      <td>-0.657605</td>\n",
       "      <td>-0.010001</td>\n",
       "      <td>-0.061762</td>\n",
       "    </tr>\n",
       "    <tr>\n",
       "      <th>2</th>\n",
       "      <td>-0.939755</td>\n",
       "      <td>-1.078464</td>\n",
       "      <td>-0.390228</td>\n",
       "      <td>-0.651388</td>\n",
       "      <td>0.226499</td>\n",
       "      <td>-0.073679</td>\n",
       "      <td>0.166695</td>\n",
       "      <td>-0.003907</td>\n",
       "      <td>-0.325800</td>\n",
       "      <td>0.334540</td>\n",
       "      <td>-0.351944</td>\n",
       "      <td>-0.227039</td>\n",
       "      <td>-0.010001</td>\n",
       "      <td>-0.061762</td>\n",
       "    </tr>\n",
       "    <tr>\n",
       "      <th>3</th>\n",
       "      <td>1.132735</td>\n",
       "      <td>1.117366</td>\n",
       "      <td>0.997091</td>\n",
       "      <td>1.075838</td>\n",
       "      <td>1.793764</td>\n",
       "      <td>-0.596791</td>\n",
       "      <td>-0.303897</td>\n",
       "      <td>-0.493713</td>\n",
       "      <td>-0.344600</td>\n",
       "      <td>-0.432163</td>\n",
       "      <td>-0.547966</td>\n",
       "      <td>-0.442322</td>\n",
       "      <td>-0.010001</td>\n",
       "      <td>-0.061762</td>\n",
       "    </tr>\n",
       "    <tr>\n",
       "      <th>4</th>\n",
       "      <td>0.660296</td>\n",
       "      <td>0.596241</td>\n",
       "      <td>0.707836</td>\n",
       "      <td>0.466741</td>\n",
       "      <td>1.170890</td>\n",
       "      <td>-0.384718</td>\n",
       "      <td>-0.589104</td>\n",
       "      <td>-1.161629</td>\n",
       "      <td>0.463823</td>\n",
       "      <td>-1.170271</td>\n",
       "      <td>-0.743988</td>\n",
       "      <td>3.935102</td>\n",
       "      <td>-0.010001</td>\n",
       "      <td>-0.061762</td>\n",
       "    </tr>\n",
       "  </tbody>\n",
       "</table>\n",
       "</div>"
      ],
      "text/plain": [
       "    DepTime  CRSDepTime   ArrTime  CRSArrTime  FlightNum  ActualElapsedTime  \\\n",
       "0  0.065291    0.146179  0.160646   -0.000959  -1.014080          -0.808863   \n",
       "1  1.150562    1.283178  0.941819    1.019279   0.189799          -1.134041   \n",
       "2 -0.939755   -1.078464 -0.390228   -0.651388   0.226499          -0.073679   \n",
       "3  1.132735    1.117366  0.997091    1.075838   1.793764          -0.596791   \n",
       "4  0.660296    0.596241  0.707836    0.466741   1.170890          -0.384718   \n",
       "\n",
       "   CRSElapsedTime   AirTime  ArrDelay  Distance    TaxiIn   TaxiOut  \\\n",
       "0       -0.945613 -0.820250 -0.325800 -0.807472 -0.351944 -0.011756   \n",
       "1       -1.102477 -1.013204 -0.419802 -1.000488 -0.547966 -0.657605   \n",
       "2        0.166695 -0.003907 -0.325800  0.334540 -0.351944 -0.227039   \n",
       "3       -0.303897 -0.493713 -0.344600 -0.432163 -0.547966 -0.442322   \n",
       "4       -0.589104 -1.161629  0.463823 -1.170271 -0.743988  3.935102   \n",
       "\n",
       "   Cancelled  Diverted  \n",
       "0  -0.010001 -0.061762  \n",
       "1  -0.010001 -0.061762  \n",
       "2  -0.010001 -0.061762  \n",
       "3  -0.010001 -0.061762  \n",
       "4  -0.010001 -0.061762  "
      ]
     },
     "execution_count": 93,
     "metadata": {},
     "output_type": "execute_result"
    }
   ],
   "source": [
    "X3.head()"
   ]
  },
  {
   "cell_type": "code",
   "execution_count": 94,
   "id": "be757f84",
   "metadata": {},
   "outputs": [],
   "source": [
    "X_train_1m3, X_test_1m3, y_train_1m3, y_test_1m3 = train_test_split(X3, y3, test_size=0.3, random_state=1) # 70% training and 30% test"
   ]
  },
  {
   "cell_type": "code",
   "execution_count": 95,
   "id": "a64d488b",
   "metadata": {},
   "outputs": [],
   "source": [
    "# 1. DecisionTreeClassifier\n",
    "# Create Decision Tree classifer object\n",
    "clf = DecisionTreeClassifier()\n",
    "\n",
    "# Train Decision Tree Classifer\n",
    "clf = clf.fit(X_train_1m3,y_train_1m3)\n",
    "\n",
    "#Predict the response for test dataset\n",
    "y_pred_1m3 = clf.predict(X_test_1m3)"
   ]
  },
  {
   "cell_type": "code",
   "execution_count": 96,
   "id": "9c0cd0f2",
   "metadata": {},
   "outputs": [
    {
     "name": "stdout",
     "output_type": "stream",
     "text": [
      "Accuracy: 1.0\n"
     ]
    }
   ],
   "source": [
    "# Model Accuracy, how often is the classifier correct?\n",
    "print(\"Accuracy:\",metrics.accuracy_score(y_test_1m3, y_pred_1m3))"
   ]
  },
  {
   "cell_type": "code",
   "execution_count": 97,
   "id": "48bd7691",
   "metadata": {},
   "outputs": [],
   "source": [
    "X_train_2m3, X_test_2m3, y_train_2m3, y_test_2m3 = train_test_split(X3, y3, test_size=0.3)"
   ]
  },
  {
   "cell_type": "code",
   "execution_count": 98,
   "id": "8e0b205a",
   "metadata": {},
   "outputs": [],
   "source": [
    "# 2.KNeighborsClassifier\n",
    "modelknc = KNeighborsClassifier(n_neighbors=3, weights='distance',leaf_size=40)\n",
    "modelknc.fit(X_train_2m3, y_train_2m3)\n",
    "y_pred_2m3 = modelknc.predict(X_test_2m3)"
   ]
  },
  {
   "cell_type": "code",
   "execution_count": 99,
   "id": "2db6b960",
   "metadata": {},
   "outputs": [
    {
     "name": "stdout",
     "output_type": "stream",
     "text": [
      "Accuracy: 0.9089996654399465\n"
     ]
    }
   ],
   "source": [
    "# Model Accuracy, how often is the classifier correct?\n",
    "print(\"Accuracy:\",metrics.accuracy_score(y_test_2m3, y_pred_2m3))"
   ]
  },
  {
   "cell_type": "code",
   "execution_count": 100,
   "id": "3733c151",
   "metadata": {},
   "outputs": [],
   "source": [
    "# 3. Random forest\n",
    "X_train_3m3, X_test_3m3, y_train_3m3, y_test_3m3 = train_test_split(X3, y3, test_size=0.3, random_state=1)"
   ]
  },
  {
   "cell_type": "code",
   "execution_count": 101,
   "id": "f724d84c",
   "metadata": {},
   "outputs": [],
   "source": [
    "#Create a Random Forest\n",
    "clf_rf_mod=RandomForestRegressor(max_depth=10, n_estimators=150, random_state=1)\n",
    "\n",
    "#Train the model using the training sets y_pred=clf.predict(X_test)\n",
    "clf_rf_mod.fit(X_train_3m3,y_train_3m3)\n",
    "\n",
    "y_pred_mod=clf_rf_mod.predict(X_test_3m3)"
   ]
  },
  {
   "cell_type": "code",
   "execution_count": 102,
   "id": "bd3b7735",
   "metadata": {},
   "outputs": [
    {
     "name": "stdout",
     "output_type": "stream",
     "text": [
      "Accuracy: 1.0\n"
     ]
    }
   ],
   "source": [
    "# Model Accuracy, how often is the classifier correct?\n",
    "print(\"Accuracy:\",metrics.accuracy_score(y_test_3m3, y_pred_mod))"
   ]
  },
  {
   "cell_type": "code",
   "execution_count": 103,
   "id": "e7094b89",
   "metadata": {},
   "outputs": [
    {
     "data": {
      "text/plain": [
       "ArrDelay             1.0\n",
       "DepTime              0.0\n",
       "CRSDepTime           0.0\n",
       "ArrTime              0.0\n",
       "CRSArrTime           0.0\n",
       "FlightNum            0.0\n",
       "ActualElapsedTime    0.0\n",
       "CRSElapsedTime       0.0\n",
       "AirTime              0.0\n",
       "Distance             0.0\n",
       "TaxiIn               0.0\n",
       "TaxiOut              0.0\n",
       "Cancelled            0.0\n",
       "Diverted             0.0\n",
       "dtype: float64"
      ]
     },
     "execution_count": 103,
     "metadata": {},
     "output_type": "execute_result"
    }
   ],
   "source": [
    "feature_imp2 = pd.Series(clf_rf_mod.feature_importances_,index=X3.columns).sort_values(ascending=False)\n",
    "feature_imp2"
   ]
  },
  {
   "cell_type": "code",
   "execution_count": 104,
   "id": "d27d930e",
   "metadata": {},
   "outputs": [
    {
     "name": "stderr",
     "output_type": "stream",
     "text": [
      "No handles with labels found to put in legend.\n"
     ]
    },
    {
     "data": {
      "image/png": "[encoded data removed]",
      "text/plain": [
       "<Figure size 432x288 with 1 Axes>"
      ]
     },
     "metadata": {},
     "output_type": "display_data"
    }
   ],
   "source": [
    "# Creating a bar plot\n",
    "sns.barplot(x=feature_imp2, y=feature_imp2.index)\n",
    "# Add labels to your graph\n",
    "plt.xlabel('Feature Importance Score')\n",
    "plt.ylabel('Features')\n",
    "plt.title(\"Visualizing Important Features\")\n",
    "plt.legend()\n",
    "plt.show()"
   ]
  },
  {
   "cell_type": "markdown",
   "id": "8dce492e",
   "metadata": {},
   "source": [
    "#### Conclusions\n",
    "\n",
    "Al prescindir de DepDelay ha fet que tot el pes de les prediccions recaigui al ArrDelay"
   ]
  },
  {
   "cell_type": "markdown",
   "id": "55df4fad",
   "metadata": {},
   "source": [
    "#### Extra Ball.\n",
    "\n",
    "Prescindirem també del ArrDelay per veure si alguna variable ens pot ajudar a predir el retras en els vols."
   ]
  },
  {
   "cell_type": "code",
   "execution_count": 105,
   "id": "97c8f89c",
   "metadata": {},
   "outputs": [],
   "source": [
    "y4 = df_std2.BinaryDelay\n",
    "X4 = df_std2.drop(['BinaryDelay','DepDelay','ArrDelay'], axis=1)"
   ]
  },
  {
   "cell_type": "code",
   "execution_count": 106,
   "id": "2b470f91",
   "metadata": {},
   "outputs": [],
   "source": [
    "X_train_1m4, X_test_1m4, y_train_1m4, y_test_1m4 = train_test_split(X4, y4, test_size=0.3, random_state=1) # 70% training and 30% test"
   ]
  },
  {
   "cell_type": "code",
   "execution_count": 107,
   "id": "b00a3ca2",
   "metadata": {},
   "outputs": [],
   "source": [
    "# 1. DecisionTreeClassifier\n",
    "# Create Decision Tree classifer object\n",
    "clf = DecisionTreeClassifier()\n",
    "\n",
    "# Train Decision Tree Classifer\n",
    "clf = clf.fit(X_train_1m4,y_train_1m4)\n",
    "\n",
    "#Predict the response for test dataset\n",
    "y_pred_1m4 = clf.predict(X_test_1m4)"
   ]
  },
  {
   "cell_type": "code",
   "execution_count": 108,
   "id": "15de0b47",
   "metadata": {},
   "outputs": [
    {
     "name": "stdout",
     "output_type": "stream",
     "text": [
      "Accuracy: 0.8417530946804952\n"
     ]
    }
   ],
   "source": [
    "# Model Accuracy, how often is the classifier correct?\n",
    "print(\"Accuracy:\",metrics.accuracy_score(y_test_1m4, y_pred_1m4))"
   ]
  },
  {
   "cell_type": "code",
   "execution_count": 109,
   "id": "4db16245",
   "metadata": {},
   "outputs": [],
   "source": [
    "X_train_2m4, X_test_2m4, y_train_2m4, y_test_2m4 = train_test_split(X4, y4, test_size=0.3)"
   ]
  },
  {
   "cell_type": "code",
   "execution_count": 110,
   "id": "6f5b675c",
   "metadata": {},
   "outputs": [],
   "source": [
    "# 2.KNeighborsClassifier\n",
    "modelknc = KNeighborsClassifier(n_neighbors=3, weights='distance',leaf_size=40)\n",
    "modelknc.fit(X_train_2m4, y_train_2m4)\n",
    "y_pred_2m4 = modelknc.predict(X_test_2m4)"
   ]
  },
  {
   "cell_type": "code",
   "execution_count": 111,
   "id": "ce4003a7",
   "metadata": {},
   "outputs": [
    {
     "name": "stdout",
     "output_type": "stream",
     "text": [
      "Accuracy: 0.8758782201405152\n"
     ]
    }
   ],
   "source": [
    "# Model Accuracy, how often is the classifier correct?\n",
    "print(\"Accuracy:\",metrics.accuracy_score(y_test_2m4, y_pred_2m4))"
   ]
  },
  {
   "cell_type": "code",
   "execution_count": 112,
   "id": "f147fc8d",
   "metadata": {},
   "outputs": [],
   "source": [
    "# 3. Random forest\n",
    "X_train_3m4, X_test_3m4, y_train_3m4, y_test_3m4 = train_test_split(X4, y4, test_size=0.3, random_state=1)"
   ]
  },
  {
   "cell_type": "code",
   "execution_count": 113,
   "id": "f19ed405",
   "metadata": {},
   "outputs": [],
   "source": [
    "#Create a Ranodm Forest\n",
    "clf_rf_mod=RandomForestClassifier(max_depth=10, n_estimators=100, random_state=1)\n",
    "\n",
    "#Train the model using the training sets y_pred=clf.predict(X_test)\n",
    "clf_rf_mod.fit(X_train_3m4,y_train_3m4)\n",
    "\n",
    "y_pred_mod=clf_rf_mod.predict(X_test_3m4)"
   ]
  },
  {
   "cell_type": "code",
   "execution_count": 114,
   "id": "9413924f",
   "metadata": {},
   "outputs": [
    {
     "name": "stdout",
     "output_type": "stream",
     "text": [
      "Accuracy: 0.8946135831381733\n"
     ]
    }
   ],
   "source": [
    "# Model Accuracy, how often is the classifier correct?\n",
    "print(\"Accuracy:\",metrics.accuracy_score(y_test_3m4, y_pred_mod))"
   ]
  },
  {
   "cell_type": "code",
   "execution_count": 115,
   "id": "e249b289",
   "metadata": {},
   "outputs": [
    {
     "data": {
      "text/plain": [
       "CRSElapsedTime       0.133259\n",
       "ActualElapsedTime    0.118520\n",
       "TaxiOut              0.112501\n",
       "CRSArrTime           0.089773\n",
       "AirTime              0.088059\n",
       "Distance             0.086523\n",
       "DepTime              0.085674\n",
       "ArrTime              0.084165\n",
       "CRSDepTime           0.075683\n",
       "FlightNum            0.075606\n",
       "TaxiIn               0.050237\n",
       "Cancelled            0.000000\n",
       "Diverted             0.000000\n",
       "dtype: float64"
      ]
     },
     "execution_count": 115,
     "metadata": {},
     "output_type": "execute_result"
    }
   ],
   "source": [
    "feature_imp3 = pd.Series(clf_rf_mod.feature_importances_,index=X4.columns).sort_values(ascending=False)\n",
    "feature_imp3"
   ]
  },
  {
   "cell_type": "code",
   "execution_count": 116,
   "id": "12120696",
   "metadata": {},
   "outputs": [
    {
     "name": "stderr",
     "output_type": "stream",
     "text": [
      "No handles with labels found to put in legend.\n"
     ]
    },
    {
     "data": {
      "image/png": "[encoded data removed]",
      "text/plain": [
       "<Figure size 432x288 with 1 Axes>"
      ]
     },
     "metadata": {},
     "output_type": "display_data"
    }
   ],
   "source": [
    "# Creating a bar plot\n",
    "sns.barplot(x=feature_imp3, y=feature_imp3.index)\n",
    "# Add labels to your graph\n",
    "plt.xlabel('Feature Importance Score')\n",
    "plt.ylabel('Features')\n",
    "plt.title(\"Visualizing Important Features\")\n",
    "plt.legend()\n",
    "plt.show()"
   ]
  },
  {
   "cell_type": "markdown",
   "id": "f065fe66",
   "metadata": {},
   "source": [
    "#### Conclusions\n",
    "\n",
    "Al desactivar el ArrDelay veiem que baixen els index de accuracy en tots tres models i que la resta de variables analitzades passen a ser més preponderants, sent CRSElapsedTime la més definitoria."
   ]
  }
 ],
 "metadata": {
  "kernelspec": {
   "display_name": "Python 3",
   "language": "python",
   "name": "python3"
  },
  "language_info": {
   "codemirror_mode": {
    "name": "ipython",
    "version": 3
   },
   "file_extension": ".py",
   "mimetype": "text/x-python",
   "name": "python",
   "nbconvert_exporter": "python",
   "pygments_lexer": "ipython3",
   "version": "3.8.8"
  },
  "toc": {
   "base_numbering": 1,
   "nav_menu": {},
   "number_sections": true,
   "sideBar": true,
   "skip_h1_title": false,
   "title_cell": "Table of Contents",
   "title_sidebar": "Contents",
   "toc_cell": false,
   "toc_position": {},
   "toc_section_display": true,
   "toc_window_display": false
  }
 },
 "nbformat": 4,
 "nbformat_minor": 5
}
